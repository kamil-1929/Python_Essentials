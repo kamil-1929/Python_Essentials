{
 "cells": [
  {
   "cell_type": "markdown",
   "metadata": {},
   "source": [
    "# Python Basics\n"
   ]
  },
  {
   "cell_type": "code",
   "execution_count": 10,
   "metadata": {},
   "outputs": [
    {
     "name": "stdout",
     "output_type": "stream",
     "text": [
      "Hello, Hi Welcome to Python for AI\n",
      " Kamil !!! \n"
     ]
    }
   ],
   "source": [
    "# Printing in Python\n",
    "print(\"Hello, Hi Welcome to Python for AI\" )\n",
    "print(\" Kamil !!! \")"
   ]
  },
  {
   "cell_type": "markdown",
   "metadata": {},
   "source": [
    "### Variables"
   ]
  },
  {
   "cell_type": "code",
   "execution_count": 11,
   "metadata": {},
   "outputs": [
    {
     "name": "stdout",
     "output_type": "stream",
     "text": [
      "10 3.369 Hello\n",
      "<class 'int'> <class 'float'> <class 'str'>\n"
     ]
    }
   ],
   "source": [
    "# defining the variables in python: \n",
    "var1 = 10\n",
    "var2 = 3.369\n",
    "var3 = \"Hello\"\n",
    "\n",
    "print(var1, var2, var3)\n",
    "print(type(var1), type(var2), type(var3))\n",
    "\n",
    "# In python we dont need to mention the datatype unlike java and other languages"
   ]
  },
  {
   "cell_type": "code",
   "execution_count": 12,
   "metadata": {},
   "outputs": [
    {
     "name": "stdout",
     "output_type": "stream",
     "text": [
      "<class 'int'>\n",
      "<class 'float'>\n",
      "<class 'str'>\n",
      "<class 'str'>\n"
     ]
    }
   ],
   "source": [
    "print(type(var1))\n",
    "print(type(var2))\n",
    "print(type(var3))\n",
    "\n",
    "var1=\"hello\"\n",
    "print(type(var1))"
   ]
  },
  {
   "cell_type": "code",
   "execution_count": 13,
   "metadata": {},
   "outputs": [
    {
     "name": "stdout",
     "output_type": "stream",
     "text": [
      "Value of pi is  3.14\n"
     ]
    }
   ],
   "source": [
    "pi = 3.14\n",
    "print(\"Value of pi is \", pi)"
   ]
  },
  {
   "cell_type": "markdown",
   "metadata": {},
   "source": [
    "### Assignment"
   ]
  },
  {
   "cell_type": "code",
   "execution_count": 15,
   "metadata": {},
   "outputs": [
    {
     "name": "stdout",
     "output_type": "stream",
     "text": [
      "1   1   1\n",
      "3   6   nine\n"
     ]
    }
   ],
   "source": [
    "# Assigning same values to the multiple variables\n",
    "var1 = var2 = var3 = 1\n",
    "print(var1,' ', var2,' ', var3)\n",
    "\n",
    "# Assigning Different values to variables in a single expression\n",
    "var1, var2, var3 = 3, 6, \"nine\"\n",
    "print(var1,' ', var2,' ', var3)"
   ]
  },
  {
   "cell_type": "markdown",
   "metadata": {},
   "source": [
    "### Slicing"
   ]
  },
  {
   "cell_type": "code",
   "execution_count": 32,
   "metadata": {},
   "outputs": [
    {
     "name": "stdout",
     "output_type": "stream",
     "text": [
      "ld\n",
      "Hello AI World\n",
      "H\n",
      "AI \n",
      "lo AI World\n",
      "Hello \n",
      "Hello AI WorldHello AI WorldHello AI World\n",
      "Hello AI WorldHello AI WorldHello AI WorldHello AI WorldHello AI WorldHello AI WorldHello AI WorldHello AI WorldHello AI WorldHello AI World\n",
      "Hello AI World Order\n"
     ]
    }
   ],
   "source": [
    "# String operations\n",
    "\n",
    "str = \"Hello AI World\" \n",
    "length = len(str)\n",
    "print(str[length-2:])\n",
    "print(str)\n",
    "print(str[0])\n",
    "print(str[6:9])\n",
    "print(str[3:])\n",
    "print(str[:6])\n",
    "print(str * 3) \n",
    "str1 = str * 10\n",
    "print(str1)\n",
    "print(str + \" Order\")\n"
   ]
  },
  {
   "cell_type": "markdown",
   "metadata": {},
   "source": [
    "### Data types"
   ]
  },
  {
   "cell_type": "code",
   "execution_count": 43,
   "metadata": {},
   "outputs": [
    {
     "name": "stdout",
     "output_type": "stream",
     "text": [
      "['abcd', 369, 786]\n",
      "S\n",
      "o\n",
      "n\n",
      "(369, 786)\n"
     ]
    }
   ],
   "source": [
    "# Python Lists\n",
    "list = ['abcd', 369, 786, 'Solomon', 'David', 3.14]\n",
    "\n",
    "# A tuple. Tuples are immutable, i.e. cannot be edit later\n",
    "tuple = ('abcd', 369, 786, 'Solomon', 'David', 3.14)\n",
    "\n",
    "print(list[:3])\n",
    "print(list[3][0])\n",
    "print(list[3][3])\n",
    "print(list[3][6])\n",
    "print(tuple[1:3])"
   ]
  },
  {
   "cell_type": "code",
   "execution_count": 55,
   "metadata": {},
   "outputs": [
    {
     "name": "stdout",
     "output_type": "stream",
     "text": [
      "{'David': 1786, 'Solomon': 369}\n",
      "{'Solomon': 369}\n",
      "dict_keys(['Solomon', 'Abraham'])\n",
      "['Abraham', 'Solomon']\n",
      "[369, 3323]\n",
      "False\n",
      "True\n",
      "True\n"
     ]
    }
   ],
   "source": [
    "# Lists are ordered sets of objects, whereas dictionaries are unordered sets.\n",
    "# But the main difference is that items in dictionaries are accessed \n",
    "# via keys and not via their position.\n",
    "\n",
    "tel = {'David': 786, 'Solomon': 369}\n",
    "tel['David'] = 1786\n",
    "print(tel)\n",
    "del tel['David']\n",
    "print(tel)\n",
    "tel['Abraham'] = 3323\n",
    "print(tel.keys())\n",
    "print(sorted(tel.keys()))\n",
    "print(sorted(tel.values()))\n",
    "print('Rava' in tel)\n",
    "print('Solomon' in tel)\n",
    "print('Yusuf' not in tel)\n",
    "\n",
    "\n"
   ]
  },
  {
   "cell_type": "markdown",
   "metadata": {},
   "source": [
    "###  Conditioning and looping"
   ]
  },
  {
   "cell_type": "code",
   "execution_count": 56,
   "metadata": {},
   "outputs": [
    {
     "name": "stdout",
     "output_type": "stream",
     "text": [
      "Square of  0 is : 0\n",
      "1 is odd number\n",
      "Square of  2 is : 4\n",
      "3 is odd number\n",
      "Square of  4 is : 16\n",
      "5 is odd number\n",
      "Square of  6 is : 36\n",
      "7 is odd number\n",
      "Square of  8 is : 64\n",
      "9 is odd number\n",
      "End Loop\n"
     ]
    }
   ],
   "source": [
    "# Square of Even numbers\n",
    "\n",
    "for i in range(10):\n",
    "    if i % 2 == 0:\n",
    "        print(\"Square of \",i,\"is :\", i * i)\n",
    "    \n",
    "    else:\n",
    "        print(i, \"is odd number\")\n",
    "print(\"End Loop\")\n",
    "         "
   ]
  },
  {
   "cell_type": "markdown",
   "metadata": {},
   "source": [
    "### Built-in Functions"
   ]
  },
  {
   "cell_type": "code",
   "execution_count": null,
   "metadata": {},
   "outputs": [
    {
     "name": "stdout",
     "output_type": "stream",
     "text": [
      "sum of the array: 18\n",
      "Length of array: 10\n",
      "Absolute value:  369\n",
      "Round Value:  3\n",
      "Float 12.25\n",
      "Float, 12.25\n"
     ]
    }
   ],
   "source": [
    "print(\"sum of the array:\", sum([3,6,9]))\n",
    "print(\"Length of array:\", len([1,2,3,4,5,6,7,8,9,10]))\n",
    "print(\"Absolute value: \", abs(-369))\n",
    "print(\"Round Value: \", round(3.1444444444))\n",
    "value = 12.2456\n",
    "formatted_float = \"{:.2f}\".format(value)\n",
    "print(\"Float\", formatted_float)\n",
    "print(f\"Float, {value:.2f}\")"
   ]
  },
  {
   "cell_type": "markdown",
   "metadata": {},
   "source": [
    "### Functions"
   ]
  },
  {
   "cell_type": "code",
   "execution_count": 76,
   "metadata": {},
   "outputs": [
    {
     "name": "stdout",
     "output_type": "stream",
     "text": [
      "Area of rectangle: 200\n",
      "Perimeter of rectangle: 60\n"
     ]
    }
   ],
   "source": [
    "# Area of Rectangle\n",
    "def area(len, wid):\n",
    "    return len*wid, 2*(len + wid)\n",
    "\n",
    "ap = area(10, 20)\n",
    "print(\"Area of rectangle:\", ap[0])  # Area\n",
    "print(\"Perimeter of rectangle:\", ap[1])  # Perimeter"
   ]
  },
  {
   "cell_type": "markdown",
   "metadata": {},
   "source": [
    "### NumPy \n",
    "* Numpy is the fundamental package for numerical computing with Python.\n",
    "* a powerful N-dimensional array object\n",
    "* useful linear algebra, Fourier transform, and random number capabilities"
   ]
  },
  {
   "cell_type": "code",
   "execution_count": 2,
   "metadata": {},
   "outputs": [
    {
     "name": "stdout",
     "output_type": "stream",
     "text": [
      "Matrix A\n",
      " [7 8 6]\n",
      "\n",
      "Matrix B\n",
      " [3 6 9]\n",
      "\n",
      "Matrix Addition A + B \n",
      " [10 14 15]\n",
      "\n",
      "Addition using Broadcasting A + 3\n",
      " [10 11  9]\n"
     ]
    }
   ],
   "source": [
    "import numpy as np\n",
    "\n",
    "a = np.array([7,8,6])\n",
    "b = np.array([3,6,9])\n",
    "\n",
    "print(\"Matrix A\\n\", a)\n",
    "print(\"\\nMatrix B\\n\", b)\n",
    "\n",
    "print(\"\\nMatrix Addition A + B \\n\", a + b)\n",
    "print(\"\\nAddition using Broadcasting A + 3\\n\", a + 3)"
   ]
  },
  {
   "cell_type": "code",
   "execution_count": 82,
   "metadata": {},
   "outputs": [
    {
     "name": "stdout",
     "output_type": "stream",
     "text": [
      "Matrix C\n",
      " [[0 1 2]\n",
      " [3 4 5]\n",
      " [6 7 8]]\n",
      "Matrix D\n",
      " [[1 2 3]\n",
      " [1 2 3]\n",
      " [1 2 3]]\n",
      "Matrix E\n",
      " [1 2 3]\n",
      "Regular matrix addition C+D\n",
      " [[ 1  3  5]\n",
      " [ 4  6  8]\n",
      " [ 7  9 11]]\n",
      "Addition using Broadcasting C+E\n",
      " [[ 1  3  5]\n",
      " [ 4  6  8]\n",
      " [ 7  9 11]]\n"
     ]
    }
   ],
   "source": [
    "# Lets go for a 2D matrix\n",
    "c = np.array([[0, 1, 2],[3, 4, 5],[6, 7, 8]])\n",
    "d = np.array([[1, 2, 3],[1, 2, 3],[1, 2, 3]])\n",
    "\n",
    "e = np.array([1, 2, 3])\n",
    "\n",
    "print(\"Matrix C\\n\", c)\n",
    "print(\"Matrix D\\n\", d)\n",
    "print(\"Matrix E\\n\", e)\n",
    "\n",
    "print(\"Regular matrix addition C+D\\n\", c + d)\n",
    "\n",
    "print(\"Addition using Broadcasting C+E\\n\", c + e)"
   ]
  },
  {
   "cell_type": "code",
   "execution_count": 85,
   "metadata": {},
   "outputs": [
    {
     "name": "stdout",
     "output_type": "stream",
     "text": [
      "Matrix Ones M: \n",
      " [[1. 1. 1.]\n",
      " [1. 1. 1.]\n",
      " [1. 1. 1.]]\n"
     ]
    }
   ],
   "source": [
    "test_ones = np.ones((3,3))\n",
    "print(\"Matrix Ones M: \\n\", test_ones)"
   ]
  },
  {
   "cell_type": "code",
   "execution_count": 86,
   "metadata": {},
   "outputs": [
    {
     "name": "stdout",
     "output_type": "stream",
     "text": [
      "Dimension of test_ones: (3, 3)\n",
      "Dimension of a:  (3,)\n",
      "[[8. 9. 7.]\n",
      " [8. 9. 7.]\n",
      " [8. 9. 7.]]\n"
     ]
    }
   ],
   "source": [
    "print(\"Dimension of test_ones:\", test_ones.shape)\n",
    "print(\"Dimension of a: \",a.shape)\n",
    "print(test_ones + a)"
   ]
  },
  {
   "cell_type": "markdown",
   "metadata": {},
   "source": [
    "## Essential Python Packages: Numpy, Pandas, Matplotlib"
   ]
  },
  {
   "cell_type": "code",
   "execution_count": 3,
   "metadata": {},
   "outputs": [
    {
     "name": "stdout",
     "output_type": "stream",
     "text": [
      "Vector:  [1 2 3 4 5 6]\n",
      "Element 2 in Vector is 2\n"
     ]
    }
   ],
   "source": [
    "# Create row vector\n",
    "vector = np.array([1,2,3,4,5,6])\n",
    "print(\"Vector: \",vector)\n",
    "\n",
    "# selected second element\n",
    "print(\"Element 2 in Vector is\", vector[1])\n"
   ]
  },
  {
   "cell_type": "code",
   "execution_count": null,
   "metadata": {},
   "outputs": [
    {
     "name": "stdout",
     "output_type": "stream",
     "text": [
      "Matrix\n",
      " [[1 2 3]\n",
      " [4 5 6]\n",
      " [7 8 9]]\n",
      "Second row of Matrix \n",
      " [4 5 6]\n",
      "Third column of the Matrix\n",
      " [3 6 9]\n"
     ]
    }
   ],
   "source": [
    "# Create matrix\n",
    "matrix = np.array([[1,2,3],\n",
    "                  [4,5,6],\n",
    "                  [7,8,9]])\n",
    "print(\"Matrix\\n\", matrix)\n",
    "\n",
    "# select second row\n",
    "print(\"Second row of Matrix \\n\", matrix[1,:])\n",
    "print(\"Third column of the Matrix\\n\", matrix[:,2])"
   ]
  },
  {
   "cell_type": "code",
   "execution_count": 10,
   "metadata": {},
   "outputs": [
    {
     "name": "stdout",
     "output_type": "stream",
     "text": [
      "Tensor\n",
      " (2, 2, 2, 2)\n",
      "[[[[1 1]\n",
      "   [1 1]]\n",
      "\n",
      "  [[2 2]\n",
      "   [2 2]]]\n",
      "\n",
      "\n",
      " [[[3 3]\n",
      "   [3 3]]\n",
      "\n",
      "  [[4 4]\n",
      "   [4 4]]]]\n"
     ]
    }
   ],
   "source": [
    "# Create Tensor\n",
    "tensor = np.array([ [[[1, 1], [1, 1]], [[2, 2], [2, 2]]],\n",
    "                    [[[3, 3], [3, 3]], [[4, 4], [4, 4]]] ])\n",
    "\n",
    "print(\"Tensor\\n\", tensor.shape)\n",
    "print(tensor)"
   ]
  },
  {
   "cell_type": "markdown",
   "metadata": {},
   "source": [
    "### Matrix properties"
   ]
  },
  {
   "cell_type": "code",
   "execution_count": 12,
   "metadata": {},
   "outputs": [
    {
     "name": "stdout",
     "output_type": "stream",
     "text": [
      "Matrix Shape:  (3, 3)\n",
      "Number of elements:  9\n",
      "Number of dimensions:  2\n",
      "Maximum number 9\n",
      "Column with minimum numbers: [1 4 7]\n",
      "Diagonal of matrix: [1 5 9]\n",
      "Deteminant of matrix: 0.0\n"
     ]
    }
   ],
   "source": [
    "# Create Matrix\n",
    "matrix = np.array([[1,2,3],\n",
    "                   [4,5,6],\n",
    "                   [7,8,9]])\n",
    "\n",
    "print(\"Matrix Shape: \", matrix.shape)\n",
    "print(\"Number of elements: \", matrix.size)\n",
    "print(\"Number of dimensions: \", matrix.ndim )\n",
    "print(\"Maximum number\", np.max(matrix))\n",
    "print(\"Column with minimum numbers:\", np.min(matrix, axis=1))\n",
    "print(\"Diagonal of matrix:\", matrix.diagonal())\n",
    "print(\"Deteminant of matrix:\", np.linalg.det(matrix))\n"
   ]
  },
  {
   "cell_type": "markdown",
   "metadata": {},
   "source": [
    "### Matrix Operations"
   ]
  },
  {
   "cell_type": "code",
   "execution_count": 13,
   "metadata": {},
   "outputs": [
    {
     "name": "stdout",
     "output_type": "stream",
     "text": [
      "Flattened Matrix\n",
      " [1 2 3 4 5 6 7 8 9]\n",
      "Reshaping Matrix\n",
      " [[1]\n",
      " [2]\n",
      " [3]\n",
      " [4]\n",
      " [5]\n",
      " [6]\n",
      " [7]\n",
      " [8]\n",
      " [9]]\n",
      "Transposed Matrix\n",
      " [[1 4 7]\n",
      " [2 5 8]\n",
      " [3 6 9]]\n"
     ]
    }
   ],
   "source": [
    "print(\"Flattened Matrix\\n\",matrix.flatten())\n",
    "print(\"Reshaping Matrix\\n\",matrix.reshape(9,1))\n",
    "print(\"Transposed Matrix\\n\",matrix.T)"
   ]
  },
  {
   "cell_type": "code",
   "execution_count": 15,
   "metadata": {},
   "outputs": [
    {
     "name": "stdout",
     "output_type": "stream",
     "text": [
      "Matrix Addition\n",
      " [[ 2  4  2]\n",
      " [ 2  4  2]\n",
      " [ 2  4 10]]\n",
      "Scalar Multiplication\n",
      " [[ 1  3  1]\n",
      " [ 1  3  1]\n",
      " [ 1  3 16]]\n",
      "Matrix Multiplication\n",
      " [[ 3  9 10]\n",
      " [ 3  9 10]\n",
      " [ 4 12 18]]\n"
     ]
    }
   ],
   "source": [
    "# Create matrix\n",
    "matrix_a = np.array([[1, 1, 1],\n",
    "                     [1, 1, 1],\n",
    "                     [1, 1, 2]])\n",
    "\n",
    "# Create matrix\n",
    "matrix_b = np.array([[1, 3, 1],\n",
    "                     [1, 3, 1],\n",
    "                     [1, 3, 8]])\n",
    "\n",
    "print(\"Matrix Addition\\n\",np.add(matrix_a, matrix_b))\n",
    "print(\"Scalar Multiplication\\n\",np.multiply(matrix_a, matrix_b))\n",
    "print(\"Matrix Multiplication\\n\",np.dot(matrix_a, matrix_b))\n"
   ]
  },
  {
   "cell_type": "markdown",
   "metadata": {},
   "source": [
    "### Pandas"
   ]
  },
  {
   "cell_type": "code",
   "execution_count": 33,
   "metadata": {},
   "outputs": [
    {
     "name": "stdout",
     "output_type": "stream",
     "text": [
      "Data\n",
      "\n"
     ]
    },
    {
     "data": {
      "text/html": [
       "<div>\n",
       "<style scoped>\n",
       "    .dataframe tbody tr th:only-of-type {\n",
       "        vertical-align: middle;\n",
       "    }\n",
       "\n",
       "    .dataframe tbody tr th {\n",
       "        vertical-align: top;\n",
       "    }\n",
       "\n",
       "    .dataframe thead th {\n",
       "        text-align: right;\n",
       "    }\n",
       "</style>\n",
       "<table border=\"1\" class=\"dataframe\">\n",
       "  <thead>\n",
       "    <tr style=\"text-align: right;\">\n",
       "      <th></th>\n",
       "      <th>Unnamed: 0</th>\n",
       "      <th>Car Brand</th>\n",
       "      <th>Model</th>\n",
       "      <th>Price</th>\n",
       "      <th>Model Year</th>\n",
       "      <th>Location</th>\n",
       "      <th>Fuel</th>\n",
       "      <th>Driven (Kms)</th>\n",
       "      <th>Gear</th>\n",
       "      <th>Ownership</th>\n",
       "      <th>EMI (monthly)</th>\n",
       "    </tr>\n",
       "  </thead>\n",
       "  <tbody>\n",
       "    <tr>\n",
       "      <th>0</th>\n",
       "      <td>0</td>\n",
       "      <td>Hyundai</td>\n",
       "      <td>EonERA PLUS</td>\n",
       "      <td>330399</td>\n",
       "      <td>2016</td>\n",
       "      <td>Hyderabad</td>\n",
       "      <td>Petrol</td>\n",
       "      <td>10674</td>\n",
       "      <td>Manual</td>\n",
       "      <td>2</td>\n",
       "      <td>7350</td>\n",
       "    </tr>\n",
       "    <tr>\n",
       "      <th>1</th>\n",
       "      <td>1</td>\n",
       "      <td>Maruti</td>\n",
       "      <td>Wagon R 1.0LXI</td>\n",
       "      <td>350199</td>\n",
       "      <td>2011</td>\n",
       "      <td>Hyderabad</td>\n",
       "      <td>Petrol</td>\n",
       "      <td>20979</td>\n",
       "      <td>Manual</td>\n",
       "      <td>1</td>\n",
       "      <td>7790</td>\n",
       "    </tr>\n",
       "    <tr>\n",
       "      <th>2</th>\n",
       "      <td>2</td>\n",
       "      <td>Maruti</td>\n",
       "      <td>Alto K10LXI</td>\n",
       "      <td>229199</td>\n",
       "      <td>2011</td>\n",
       "      <td>Hyderabad</td>\n",
       "      <td>Petrol</td>\n",
       "      <td>47330</td>\n",
       "      <td>Manual</td>\n",
       "      <td>2</td>\n",
       "      <td>5098</td>\n",
       "    </tr>\n",
       "    <tr>\n",
       "      <th>3</th>\n",
       "      <td>3</td>\n",
       "      <td>Maruti</td>\n",
       "      <td>RitzVXI BS IV</td>\n",
       "      <td>306399</td>\n",
       "      <td>2011</td>\n",
       "      <td>Hyderabad</td>\n",
       "      <td>Petrol</td>\n",
       "      <td>19662</td>\n",
       "      <td>Manual</td>\n",
       "      <td>1</td>\n",
       "      <td>6816</td>\n",
       "    </tr>\n",
       "    <tr>\n",
       "      <th>4</th>\n",
       "      <td>4</td>\n",
       "      <td>Tata</td>\n",
       "      <td>NanoTWIST XTA</td>\n",
       "      <td>208699</td>\n",
       "      <td>2015</td>\n",
       "      <td>Hyderabad</td>\n",
       "      <td>Petrol</td>\n",
       "      <td>11256</td>\n",
       "      <td>Automatic</td>\n",
       "      <td>1</td>\n",
       "      <td>4642</td>\n",
       "    </tr>\n",
       "    <tr>\n",
       "      <th>...</th>\n",
       "      <td>...</td>\n",
       "      <td>...</td>\n",
       "      <td>...</td>\n",
       "      <td>...</td>\n",
       "      <td>...</td>\n",
       "      <td>...</td>\n",
       "      <td>...</td>\n",
       "      <td>...</td>\n",
       "      <td>...</td>\n",
       "      <td>...</td>\n",
       "      <td>...</td>\n",
       "    </tr>\n",
       "    <tr>\n",
       "      <th>5913</th>\n",
       "      <td>5913</td>\n",
       "      <td>Toyota</td>\n",
       "      <td>Fortuner3.0 AT 4X2</td>\n",
       "      <td>1234899</td>\n",
       "      <td>2012</td>\n",
       "      <td>Chennai</td>\n",
       "      <td>Diesel</td>\n",
       "      <td>197177</td>\n",
       "      <td>Automatic</td>\n",
       "      <td>1</td>\n",
       "      <td>27470</td>\n",
       "    </tr>\n",
       "    <tr>\n",
       "      <th>5914</th>\n",
       "      <td>5914</td>\n",
       "      <td>Toyota</td>\n",
       "      <td>Innova2.5 VX 8 STR BS IV</td>\n",
       "      <td>892699</td>\n",
       "      <td>2012</td>\n",
       "      <td>Chennai</td>\n",
       "      <td>Diesel</td>\n",
       "      <td>115553</td>\n",
       "      <td>Manual</td>\n",
       "      <td>2</td>\n",
       "      <td>19858</td>\n",
       "    </tr>\n",
       "    <tr>\n",
       "      <th>5915</th>\n",
       "      <td>5915</td>\n",
       "      <td>Maruti</td>\n",
       "      <td>Wagon R 1.0VXI</td>\n",
       "      <td>381399</td>\n",
       "      <td>2014</td>\n",
       "      <td>Chennai</td>\n",
       "      <td>Petrol</td>\n",
       "      <td>24663</td>\n",
       "      <td>Manual</td>\n",
       "      <td>1</td>\n",
       "      <td>8484</td>\n",
       "    </tr>\n",
       "    <tr>\n",
       "      <th>5916</th>\n",
       "      <td>5916</td>\n",
       "      <td>Hyundai</td>\n",
       "      <td>i10SPORTZ 1.2 KAPPA2 O</td>\n",
       "      <td>310899</td>\n",
       "      <td>2011</td>\n",
       "      <td>Chennai</td>\n",
       "      <td>Petrol</td>\n",
       "      <td>30159</td>\n",
       "      <td>Manual</td>\n",
       "      <td>1</td>\n",
       "      <td>6916</td>\n",
       "    </tr>\n",
       "    <tr>\n",
       "      <th>5917</th>\n",
       "      <td>5917</td>\n",
       "      <td>Maruti</td>\n",
       "      <td>Wagon R DuoLXI LPG</td>\n",
       "      <td>159999</td>\n",
       "      <td>2007</td>\n",
       "      <td>Chennai</td>\n",
       "      <td>Petrol + LPG</td>\n",
       "      <td>51247</td>\n",
       "      <td>Manual</td>\n",
       "      <td>2</td>\n",
       "      <td>3559</td>\n",
       "    </tr>\n",
       "  </tbody>\n",
       "</table>\n",
       "<p>5918 rows × 11 columns</p>\n",
       "</div>"
      ],
      "text/plain": [
       "      Unnamed: 0 Car Brand                     Model    Price  Model Year  \\\n",
       "0              0   Hyundai               EonERA PLUS   330399        2016   \n",
       "1              1    Maruti            Wagon R 1.0LXI   350199        2011   \n",
       "2              2    Maruti               Alto K10LXI   229199        2011   \n",
       "3              3    Maruti             RitzVXI BS IV   306399        2011   \n",
       "4              4      Tata             NanoTWIST XTA   208699        2015   \n",
       "...          ...       ...                       ...      ...         ...   \n",
       "5913        5913    Toyota        Fortuner3.0 AT 4X2  1234899        2012   \n",
       "5914        5914    Toyota  Innova2.5 VX 8 STR BS IV   892699        2012   \n",
       "5915        5915    Maruti            Wagon R 1.0VXI   381399        2014   \n",
       "5916        5916   Hyundai    i10SPORTZ 1.2 KAPPA2 O   310899        2011   \n",
       "5917        5917    Maruti        Wagon R DuoLXI LPG   159999        2007   \n",
       "\n",
       "       Location          Fuel  Driven (Kms)       Gear  Ownership  \\\n",
       "0     Hyderabad        Petrol         10674     Manual          2   \n",
       "1     Hyderabad        Petrol         20979     Manual          1   \n",
       "2     Hyderabad        Petrol         47330     Manual          2   \n",
       "3     Hyderabad        Petrol         19662     Manual          1   \n",
       "4     Hyderabad        Petrol         11256  Automatic          1   \n",
       "...         ...           ...           ...        ...        ...   \n",
       "5913    Chennai        Diesel        197177  Automatic          1   \n",
       "5914    Chennai        Diesel        115553     Manual          2   \n",
       "5915    Chennai        Petrol         24663     Manual          1   \n",
       "5916    Chennai        Petrol         30159     Manual          1   \n",
       "5917    Chennai  Petrol + LPG         51247     Manual          2   \n",
       "\n",
       "      EMI (monthly)  \n",
       "0              7350  \n",
       "1              7790  \n",
       "2              5098  \n",
       "3              6816  \n",
       "4              4642  \n",
       "...             ...  \n",
       "5913          27470  \n",
       "5914          19858  \n",
       "5915           8484  \n",
       "5916           6916  \n",
       "5917           3559  \n",
       "\n",
       "[5918 rows x 11 columns]"
      ]
     },
     "execution_count": 33,
     "metadata": {},
     "output_type": "execute_result"
    }
   ],
   "source": [
    "import pandas as pd\n",
    "\n",
    "df = pd.read_csv(\"Cars24.csv\")\n",
    "print(\"Data\\n\")\n",
    "df\n"
   ]
  },
  {
   "cell_type": "code",
   "execution_count": 37,
   "metadata": {},
   "outputs": [
    {
     "name": "stdout",
     "output_type": "stream",
     "text": [
      "Top Elements\n",
      "\n"
     ]
    },
    {
     "data": {
      "text/html": [
       "<div>\n",
       "<style scoped>\n",
       "    .dataframe tbody tr th:only-of-type {\n",
       "        vertical-align: middle;\n",
       "    }\n",
       "\n",
       "    .dataframe tbody tr th {\n",
       "        vertical-align: top;\n",
       "    }\n",
       "\n",
       "    .dataframe thead th {\n",
       "        text-align: right;\n",
       "    }\n",
       "</style>\n",
       "<table border=\"1\" class=\"dataframe\">\n",
       "  <thead>\n",
       "    <tr style=\"text-align: right;\">\n",
       "      <th></th>\n",
       "      <th>Unnamed: 0</th>\n",
       "      <th>Car Brand</th>\n",
       "      <th>Model</th>\n",
       "      <th>Price</th>\n",
       "      <th>Model Year</th>\n",
       "      <th>Location</th>\n",
       "      <th>Fuel</th>\n",
       "      <th>Driven (Kms)</th>\n",
       "      <th>Gear</th>\n",
       "      <th>Ownership</th>\n",
       "      <th>EMI (monthly)</th>\n",
       "    </tr>\n",
       "  </thead>\n",
       "  <tbody>\n",
       "    <tr>\n",
       "      <th>0</th>\n",
       "      <td>0</td>\n",
       "      <td>Hyundai</td>\n",
       "      <td>EonERA PLUS</td>\n",
       "      <td>330399</td>\n",
       "      <td>2016</td>\n",
       "      <td>Hyderabad</td>\n",
       "      <td>Petrol</td>\n",
       "      <td>10674</td>\n",
       "      <td>Manual</td>\n",
       "      <td>2</td>\n",
       "      <td>7350</td>\n",
       "    </tr>\n",
       "    <tr>\n",
       "      <th>1</th>\n",
       "      <td>1</td>\n",
       "      <td>Maruti</td>\n",
       "      <td>Wagon R 1.0LXI</td>\n",
       "      <td>350199</td>\n",
       "      <td>2011</td>\n",
       "      <td>Hyderabad</td>\n",
       "      <td>Petrol</td>\n",
       "      <td>20979</td>\n",
       "      <td>Manual</td>\n",
       "      <td>1</td>\n",
       "      <td>7790</td>\n",
       "    </tr>\n",
       "    <tr>\n",
       "      <th>2</th>\n",
       "      <td>2</td>\n",
       "      <td>Maruti</td>\n",
       "      <td>Alto K10LXI</td>\n",
       "      <td>229199</td>\n",
       "      <td>2011</td>\n",
       "      <td>Hyderabad</td>\n",
       "      <td>Petrol</td>\n",
       "      <td>47330</td>\n",
       "      <td>Manual</td>\n",
       "      <td>2</td>\n",
       "      <td>5098</td>\n",
       "    </tr>\n",
       "  </tbody>\n",
       "</table>\n",
       "</div>"
      ],
      "text/plain": [
       "   Unnamed: 0 Car Brand           Model   Price  Model Year   Location  \\\n",
       "0           0   Hyundai     EonERA PLUS  330399        2016  Hyderabad   \n",
       "1           1    Maruti  Wagon R 1.0LXI  350199        2011  Hyderabad   \n",
       "2           2    Maruti     Alto K10LXI  229199        2011  Hyderabad   \n",
       "\n",
       "     Fuel  Driven (Kms)    Gear  Ownership  EMI (monthly)  \n",
       "0  Petrol         10674  Manual          2           7350  \n",
       "1  Petrol         20979  Manual          1           7790  \n",
       "2  Petrol         47330  Manual          2           5098  "
      ]
     },
     "execution_count": 37,
     "metadata": {},
     "output_type": "execute_result"
    }
   ],
   "source": [
    "print(\"Top Elements\\n\")\n",
    "df.head(3)"
   ]
  },
  {
   "cell_type": "code",
   "execution_count": 36,
   "metadata": {},
   "outputs": [
    {
     "name": "stdout",
     "output_type": "stream",
     "text": [
      "Bottom Elements\n",
      "\n"
     ]
    },
    {
     "data": {
      "text/html": [
       "<div>\n",
       "<style scoped>\n",
       "    .dataframe tbody tr th:only-of-type {\n",
       "        vertical-align: middle;\n",
       "    }\n",
       "\n",
       "    .dataframe tbody tr th {\n",
       "        vertical-align: top;\n",
       "    }\n",
       "\n",
       "    .dataframe thead th {\n",
       "        text-align: right;\n",
       "    }\n",
       "</style>\n",
       "<table border=\"1\" class=\"dataframe\">\n",
       "  <thead>\n",
       "    <tr style=\"text-align: right;\">\n",
       "      <th></th>\n",
       "      <th>Unnamed: 0</th>\n",
       "      <th>Car Brand</th>\n",
       "      <th>Model</th>\n",
       "      <th>Price</th>\n",
       "      <th>Model Year</th>\n",
       "      <th>Location</th>\n",
       "      <th>Fuel</th>\n",
       "      <th>Driven (Kms)</th>\n",
       "      <th>Gear</th>\n",
       "      <th>Ownership</th>\n",
       "      <th>EMI (monthly)</th>\n",
       "    </tr>\n",
       "  </thead>\n",
       "  <tbody>\n",
       "    <tr>\n",
       "      <th>5909</th>\n",
       "      <td>5909</td>\n",
       "      <td>Honda</td>\n",
       "      <td>Amaze1.5 EXMT I DTEC</td>\n",
       "      <td>426899</td>\n",
       "      <td>2014</td>\n",
       "      <td>Chennai</td>\n",
       "      <td>Diesel</td>\n",
       "      <td>106819</td>\n",
       "      <td>Manual</td>\n",
       "      <td>1</td>\n",
       "      <td>9496</td>\n",
       "    </tr>\n",
       "    <tr>\n",
       "      <th>5910</th>\n",
       "      <td>5910</td>\n",
       "      <td>Hyundai</td>\n",
       "      <td>i10ASTA 1.2 KAPPA2</td>\n",
       "      <td>263699</td>\n",
       "      <td>2013</td>\n",
       "      <td>Chennai</td>\n",
       "      <td>Petrol</td>\n",
       "      <td>115427</td>\n",
       "      <td>Manual</td>\n",
       "      <td>1</td>\n",
       "      <td>5866</td>\n",
       "    </tr>\n",
       "    <tr>\n",
       "      <th>5911</th>\n",
       "      <td>5911</td>\n",
       "      <td>Hyundai</td>\n",
       "      <td>i20 Active1.2 S</td>\n",
       "      <td>516899</td>\n",
       "      <td>2016</td>\n",
       "      <td>Chennai</td>\n",
       "      <td>Petrol</td>\n",
       "      <td>136089</td>\n",
       "      <td>Manual</td>\n",
       "      <td>1</td>\n",
       "      <td>11498</td>\n",
       "    </tr>\n",
       "    <tr>\n",
       "      <th>5912</th>\n",
       "      <td>5912</td>\n",
       "      <td>Audi</td>\n",
       "      <td>Q32.0 TDI</td>\n",
       "      <td>1108999</td>\n",
       "      <td>2014</td>\n",
       "      <td>Chennai</td>\n",
       "      <td>Diesel</td>\n",
       "      <td>67509</td>\n",
       "      <td>Automatic</td>\n",
       "      <td>2</td>\n",
       "      <td>24669</td>\n",
       "    </tr>\n",
       "    <tr>\n",
       "      <th>5913</th>\n",
       "      <td>5913</td>\n",
       "      <td>Toyota</td>\n",
       "      <td>Fortuner3.0 AT 4X2</td>\n",
       "      <td>1234899</td>\n",
       "      <td>2012</td>\n",
       "      <td>Chennai</td>\n",
       "      <td>Diesel</td>\n",
       "      <td>197177</td>\n",
       "      <td>Automatic</td>\n",
       "      <td>1</td>\n",
       "      <td>27470</td>\n",
       "    </tr>\n",
       "    <tr>\n",
       "      <th>5914</th>\n",
       "      <td>5914</td>\n",
       "      <td>Toyota</td>\n",
       "      <td>Innova2.5 VX 8 STR BS IV</td>\n",
       "      <td>892699</td>\n",
       "      <td>2012</td>\n",
       "      <td>Chennai</td>\n",
       "      <td>Diesel</td>\n",
       "      <td>115553</td>\n",
       "      <td>Manual</td>\n",
       "      <td>2</td>\n",
       "      <td>19858</td>\n",
       "    </tr>\n",
       "    <tr>\n",
       "      <th>5915</th>\n",
       "      <td>5915</td>\n",
       "      <td>Maruti</td>\n",
       "      <td>Wagon R 1.0VXI</td>\n",
       "      <td>381399</td>\n",
       "      <td>2014</td>\n",
       "      <td>Chennai</td>\n",
       "      <td>Petrol</td>\n",
       "      <td>24663</td>\n",
       "      <td>Manual</td>\n",
       "      <td>1</td>\n",
       "      <td>8484</td>\n",
       "    </tr>\n",
       "    <tr>\n",
       "      <th>5916</th>\n",
       "      <td>5916</td>\n",
       "      <td>Hyundai</td>\n",
       "      <td>i10SPORTZ 1.2 KAPPA2 O</td>\n",
       "      <td>310899</td>\n",
       "      <td>2011</td>\n",
       "      <td>Chennai</td>\n",
       "      <td>Petrol</td>\n",
       "      <td>30159</td>\n",
       "      <td>Manual</td>\n",
       "      <td>1</td>\n",
       "      <td>6916</td>\n",
       "    </tr>\n",
       "    <tr>\n",
       "      <th>5917</th>\n",
       "      <td>5917</td>\n",
       "      <td>Maruti</td>\n",
       "      <td>Wagon R DuoLXI LPG</td>\n",
       "      <td>159999</td>\n",
       "      <td>2007</td>\n",
       "      <td>Chennai</td>\n",
       "      <td>Petrol + LPG</td>\n",
       "      <td>51247</td>\n",
       "      <td>Manual</td>\n",
       "      <td>2</td>\n",
       "      <td>3559</td>\n",
       "    </tr>\n",
       "  </tbody>\n",
       "</table>\n",
       "</div>"
      ],
      "text/plain": [
       "      Unnamed: 0 Car Brand                     Model    Price  Model Year  \\\n",
       "5909        5909     Honda      Amaze1.5 EXMT I DTEC   426899        2014   \n",
       "5910        5910   Hyundai        i10ASTA 1.2 KAPPA2   263699        2013   \n",
       "5911        5911   Hyundai           i20 Active1.2 S   516899        2016   \n",
       "5912        5912      Audi                 Q32.0 TDI  1108999        2014   \n",
       "5913        5913    Toyota        Fortuner3.0 AT 4X2  1234899        2012   \n",
       "5914        5914    Toyota  Innova2.5 VX 8 STR BS IV   892699        2012   \n",
       "5915        5915    Maruti            Wagon R 1.0VXI   381399        2014   \n",
       "5916        5916   Hyundai    i10SPORTZ 1.2 KAPPA2 O   310899        2011   \n",
       "5917        5917    Maruti        Wagon R DuoLXI LPG   159999        2007   \n",
       "\n",
       "     Location          Fuel  Driven (Kms)       Gear  Ownership  EMI (monthly)  \n",
       "5909  Chennai        Diesel        106819     Manual          1           9496  \n",
       "5910  Chennai        Petrol        115427     Manual          1           5866  \n",
       "5911  Chennai        Petrol        136089     Manual          1          11498  \n",
       "5912  Chennai        Diesel         67509  Automatic          2          24669  \n",
       "5913  Chennai        Diesel        197177  Automatic          1          27470  \n",
       "5914  Chennai        Diesel        115553     Manual          2          19858  \n",
       "5915  Chennai        Petrol         24663     Manual          1           8484  \n",
       "5916  Chennai        Petrol         30159     Manual          1           6916  \n",
       "5917  Chennai  Petrol + LPG         51247     Manual          2           3559  "
      ]
     },
     "execution_count": 36,
     "metadata": {},
     "output_type": "execute_result"
    }
   ],
   "source": [
    "print(\"Bottom Elements\\n\")\n",
    "df.tail(9)"
   ]
  },
  {
   "cell_type": "code",
   "execution_count": 39,
   "metadata": {},
   "outputs": [
    {
     "name": "stdout",
     "output_type": "stream",
     "text": [
      "Specific Column\n",
      "\n"
     ]
    },
    {
     "data": {
      "text/html": [
       "<div>\n",
       "<style scoped>\n",
       "    .dataframe tbody tr th:only-of-type {\n",
       "        vertical-align: middle;\n",
       "    }\n",
       "\n",
       "    .dataframe tbody tr th {\n",
       "        vertical-align: top;\n",
       "    }\n",
       "\n",
       "    .dataframe thead th {\n",
       "        text-align: right;\n",
       "    }\n",
       "</style>\n",
       "<table border=\"1\" class=\"dataframe\">\n",
       "  <thead>\n",
       "    <tr style=\"text-align: right;\">\n",
       "      <th></th>\n",
       "      <th>Car Brand</th>\n",
       "      <th>Model</th>\n",
       "    </tr>\n",
       "  </thead>\n",
       "  <tbody>\n",
       "    <tr>\n",
       "      <th>0</th>\n",
       "      <td>Hyundai</td>\n",
       "      <td>EonERA PLUS</td>\n",
       "    </tr>\n",
       "    <tr>\n",
       "      <th>1</th>\n",
       "      <td>Maruti</td>\n",
       "      <td>Wagon R 1.0LXI</td>\n",
       "    </tr>\n",
       "    <tr>\n",
       "      <th>2</th>\n",
       "      <td>Maruti</td>\n",
       "      <td>Alto K10LXI</td>\n",
       "    </tr>\n",
       "    <tr>\n",
       "      <th>3</th>\n",
       "      <td>Maruti</td>\n",
       "      <td>RitzVXI BS IV</td>\n",
       "    </tr>\n",
       "    <tr>\n",
       "      <th>4</th>\n",
       "      <td>Tata</td>\n",
       "      <td>NanoTWIST XTA</td>\n",
       "    </tr>\n",
       "    <tr>\n",
       "      <th>...</th>\n",
       "      <td>...</td>\n",
       "      <td>...</td>\n",
       "    </tr>\n",
       "    <tr>\n",
       "      <th>5913</th>\n",
       "      <td>Toyota</td>\n",
       "      <td>Fortuner3.0 AT 4X2</td>\n",
       "    </tr>\n",
       "    <tr>\n",
       "      <th>5914</th>\n",
       "      <td>Toyota</td>\n",
       "      <td>Innova2.5 VX 8 STR BS IV</td>\n",
       "    </tr>\n",
       "    <tr>\n",
       "      <th>5915</th>\n",
       "      <td>Maruti</td>\n",
       "      <td>Wagon R 1.0VXI</td>\n",
       "    </tr>\n",
       "    <tr>\n",
       "      <th>5916</th>\n",
       "      <td>Hyundai</td>\n",
       "      <td>i10SPORTZ 1.2 KAPPA2 O</td>\n",
       "    </tr>\n",
       "    <tr>\n",
       "      <th>5917</th>\n",
       "      <td>Maruti</td>\n",
       "      <td>Wagon R DuoLXI LPG</td>\n",
       "    </tr>\n",
       "  </tbody>\n",
       "</table>\n",
       "<p>5918 rows × 2 columns</p>\n",
       "</div>"
      ],
      "text/plain": [
       "     Car Brand                     Model\n",
       "0      Hyundai               EonERA PLUS\n",
       "1       Maruti            Wagon R 1.0LXI\n",
       "2       Maruti               Alto K10LXI\n",
       "3       Maruti             RitzVXI BS IV\n",
       "4         Tata             NanoTWIST XTA\n",
       "...        ...                       ...\n",
       "5913    Toyota        Fortuner3.0 AT 4X2\n",
       "5914    Toyota  Innova2.5 VX 8 STR BS IV\n",
       "5915    Maruti            Wagon R 1.0VXI\n",
       "5916   Hyundai    i10SPORTZ 1.2 KAPPA2 O\n",
       "5917    Maruti        Wagon R DuoLXI LPG\n",
       "\n",
       "[5918 rows x 2 columns]"
      ]
     },
     "execution_count": 39,
     "metadata": {},
     "output_type": "execute_result"
    }
   ],
   "source": [
    "print(\"Specific Column\\n\")\n",
    "df = df[['Car Brand', 'Model']]\n",
    "df"
   ]
  },
  {
   "cell_type": "code",
   "execution_count": 40,
   "metadata": {},
   "outputs": [
    {
     "name": "stdout",
     "output_type": "stream",
     "text": [
      "Replace negative numbers with NaN\n",
      "\n",
      "None\n"
     ]
    },
    {
     "data": {
      "text/html": [
       "<div>\n",
       "<style scoped>\n",
       "    .dataframe tbody tr th:only-of-type {\n",
       "        vertical-align: middle;\n",
       "    }\n",
       "\n",
       "    .dataframe tbody tr th {\n",
       "        vertical-align: top;\n",
       "    }\n",
       "\n",
       "    .dataframe thead th {\n",
       "        text-align: right;\n",
       "    }\n",
       "</style>\n",
       "<table border=\"1\" class=\"dataframe\">\n",
       "  <thead>\n",
       "    <tr style=\"text-align: right;\">\n",
       "      <th></th>\n",
       "      <th>Car Brand</th>\n",
       "      <th>Model</th>\n",
       "    </tr>\n",
       "  </thead>\n",
       "  <tbody>\n",
       "    <tr>\n",
       "      <th>0</th>\n",
       "      <td>Hyundai</td>\n",
       "      <td>EonERA PLUS</td>\n",
       "    </tr>\n",
       "    <tr>\n",
       "      <th>1</th>\n",
       "      <td>Maruti</td>\n",
       "      <td>Wagon R 1.0LXI</td>\n",
       "    </tr>\n",
       "    <tr>\n",
       "      <th>2</th>\n",
       "      <td>Maruti</td>\n",
       "      <td>Alto K10LXI</td>\n",
       "    </tr>\n",
       "    <tr>\n",
       "      <th>3</th>\n",
       "      <td>Maruti</td>\n",
       "      <td>RitzVXI BS IV</td>\n",
       "    </tr>\n",
       "    <tr>\n",
       "      <th>4</th>\n",
       "      <td>Tata</td>\n",
       "      <td>NanoTWIST XTA</td>\n",
       "    </tr>\n",
       "    <tr>\n",
       "      <th>...</th>\n",
       "      <td>...</td>\n",
       "      <td>...</td>\n",
       "    </tr>\n",
       "    <tr>\n",
       "      <th>5913</th>\n",
       "      <td>Toyota</td>\n",
       "      <td>Fortuner3.0 AT 4X2</td>\n",
       "    </tr>\n",
       "    <tr>\n",
       "      <th>5914</th>\n",
       "      <td>Toyota</td>\n",
       "      <td>Innova2.5 VX 8 STR BS IV</td>\n",
       "    </tr>\n",
       "    <tr>\n",
       "      <th>5915</th>\n",
       "      <td>Maruti</td>\n",
       "      <td>Wagon R 1.0VXI</td>\n",
       "    </tr>\n",
       "    <tr>\n",
       "      <th>5916</th>\n",
       "      <td>Hyundai</td>\n",
       "      <td>i10SPORTZ 1.2 KAPPA2 O</td>\n",
       "    </tr>\n",
       "    <tr>\n",
       "      <th>5917</th>\n",
       "      <td>Maruti</td>\n",
       "      <td>Wagon R DuoLXI LPG</td>\n",
       "    </tr>\n",
       "  </tbody>\n",
       "</table>\n",
       "<p>5918 rows × 2 columns</p>\n",
       "</div>"
      ],
      "text/plain": [
       "     Car Brand                     Model\n",
       "0      Hyundai               EonERA PLUS\n",
       "1       Maruti            Wagon R 1.0LXI\n",
       "2       Maruti               Alto K10LXI\n",
       "3       Maruti             RitzVXI BS IV\n",
       "4         Tata             NanoTWIST XTA\n",
       "...        ...                       ...\n",
       "5913    Toyota        Fortuner3.0 AT 4X2\n",
       "5914    Toyota  Innova2.5 VX 8 STR BS IV\n",
       "5915    Maruti            Wagon R 1.0VXI\n",
       "5916   Hyundai    i10SPORTZ 1.2 KAPPA2 O\n",
       "5917    Maruti        Wagon R DuoLXI LPG\n",
       "\n",
       "[5918 rows x 2 columns]"
      ]
     },
     "execution_count": 40,
     "metadata": {},
     "output_type": "execute_result"
    }
   ],
   "source": [
    "print(print(\"Replace negative numbers with NaN\\n\"))\n",
    "df.replace(-999, np.nan)"
   ]
  },
  {
   "cell_type": "markdown",
   "metadata": {},
   "source": [
    "## Matplotlib"
   ]
  },
  {
   "cell_type": "code",
   "execution_count": 41,
   "metadata": {},
   "outputs": [],
   "source": [
    "import matplotlib.pyplot as plt"
   ]
  },
  {
   "cell_type": "markdown",
   "metadata": {},
   "source": [
    "### Line Plot"
   ]
  },
  {
   "cell_type": "code",
   "execution_count": 42,
   "metadata": {},
   "outputs": [
    {
     "data": {
      "image/png": "[encoded data removed]",
      "text/plain": [
       "<Figure size 640x480 with 1 Axes>"
      ]
     },
     "metadata": {},
     "output_type": "display_data"
    }
   ],
   "source": [
    "# Line plot\n",
    "\n",
    "plt.plot([1,2,3,4],[3,4,5,6])\n",
    "plt.xlabel('some numbers')\n",
    "plt.ylabel(\"some numbers\")\n",
    "plt.show()"
   ]
  },
  {
   "cell_type": "code",
   "execution_count": 43,
   "metadata": {},
   "outputs": [
    {
     "data": {
      "image/png": "[encoded data removed]",
      "text/plain": [
       "<Figure size 640x480 with 1 Axes>"
      ]
     },
     "metadata": {},
     "output_type": "display_data"
    }
   ],
   "source": [
    "### Adding elements to line plots\n",
    "t = np.arange(0.0, 2.0, 0.01) # Generate equally space numbers between 0 and 2\n",
    "s = 1 + np.sin(2*np.pi*t)  # Apply sin function to the random numbers\n",
    "plt.plot(t, s)\n",
    "\n",
    "plt.xlabel('time (s)')\n",
    "plt.ylabel('voltage (mV)')\n",
    "plt.title('About as simple as it gets, folks')\n",
    "plt.grid(True)\n",
    "plt.savefig(\"test.png\") # Save a plot. Check the directory\n",
    "plt.show()"
   ]
  },
  {
   "cell_type": "markdown",
   "metadata": {},
   "source": [
    "### Bar Plot"
   ]
  },
  {
   "cell_type": "code",
   "execution_count": 44,
   "metadata": {},
   "outputs": [
    {
     "data": {
      "image/png": "[encoded data removed]",
      "text/plain": [
       "<Figure size 640x480 with 1 Axes>"
      ]
     },
     "metadata": {},
     "output_type": "display_data"
    }
   ],
   "source": [
    "y = [3, 10, 7, 5, 3, 4.5, 6, 8.1]\n",
    "x = range(len(y))\n",
    "width = 1/1.5\n",
    "plt.bar(x, y, width, color=\"blue\")\n",
    "plt.show()"
   ]
  },
  {
   "cell_type": "markdown",
   "metadata": {},
   "source": [
    "### Scatter Plot"
   ]
  },
  {
   "cell_type": "code",
   "execution_count": 45,
   "metadata": {},
   "outputs": [
    {
     "data": {
      "image/png": "[encoded data removed]",
      "text/plain": [
       "<Figure size 640x480 with 1 Axes>"
      ]
     },
     "metadata": {},
     "output_type": "display_data"
    }
   ],
   "source": [
    "N = 50\n",
    "# Generate random numbers\n",
    "x = np.random.rand(N)\n",
    "y = np.random.rand(N)\n",
    "colors = np.random.rand(N)\n",
    "area = np.pi * (15 * np.random.rand(N))**2  # 0 to 15 point radii\n",
    "\n",
    "plt.scatter(x, y, s=area, c=colors, alpha=0.5)\n",
    "plt.show()"
   ]
  },
  {
   "cell_type": "markdown",
   "metadata": {},
   "source": [
    "### Histogram"
   ]
  },
  {
   "cell_type": "code",
   "execution_count": 51,
   "metadata": {},
   "outputs": [
    {
     "data": {
      "image/png": "[encoded data removed]",
      "text/plain": [
       "<Figure size 640x480 with 1 Axes>"
      ]
     },
     "metadata": {},
     "output_type": "display_data"
    }
   ],
   "source": [
    "from scipy.stats import norm\n",
    "\n",
    "# Parameters for the normal distribution\n",
    "mu, sigma = 100, 15\n",
    "\n",
    "# Generate random values with a normal distribution\n",
    "x = mu + sigma * np.random.randn(10000)\n",
    "\n",
    "# Create the histogram of the data\n",
    "n, bins, patches = plt.hist(x, 50, density=True, facecolor='green', alpha=0.75)\n",
    "\n",
    "# Add a 'best fit' line\n",
    "y = norm.pdf(bins, mu, sigma)  # Use scipy's norm.pdf to get the PDF\n",
    "l = plt.plot(bins, y, 'r--', linewidth=1)\n",
    "\n",
    "# Labeling the plot\n",
    "plt.xlabel('Smarts')\n",
    "plt.ylabel('Probability Density')\n",
    "plt.title(r'$\\mathrm{Histogram\\ of\\ IQ:}\\ \\mu=100,\\ \\sigma=15$')\n",
    "plt.axis([40, 160, 0, 0.03])\n",
    "plt.grid(True)\n",
    "\n",
    "# Show the plot\n",
    "plt.show()"
   ]
  },
  {
   "cell_type": "markdown",
   "metadata": {},
   "source": [
    "### Pie Chart"
   ]
  },
  {
   "cell_type": "code",
   "execution_count": 52,
   "metadata": {},
   "outputs": [
    {
     "data": {
      "image/png": "[encoded data removed]",
      "text/plain": [
       "<Figure size 640x480 with 1 Axes>"
      ]
     },
     "metadata": {},
     "output_type": "display_data"
    }
   ],
   "source": [
    "# Pie chart, where the slices will be ordered and plotted counter-clockwise:\n",
    "labels = 'Frogs', 'Hogs', 'Dogs', 'Logs'\n",
    "sizes = [15, 30, 45, 10]\n",
    "explode = (0, 0.1, 0, 0)  # only \"explode\" the 2nd slice (i.e. 'Hogs')\n",
    "\n",
    "fig1, ax1 = plt.subplots()\n",
    "ax1.pie(sizes, explode=explode, labels=labels, autopct='%1.1f%%',\n",
    "        shadow=True, startangle=90)\n",
    "ax1.axis('equal')  # Equal aspect ratio ensures that pie is drawn as a circle.\n",
    "\n",
    "plt.show()"
   ]
  }
 ],
 "metadata": {
  "kernelspec": {
   "display_name": "Python 3",
   "language": "python",
   "name": "python3"
  },
  "language_info": {
   "codemirror_mode": {
    "name": "ipython",
    "version": 3
   },
   "file_extension": ".py",
   "mimetype": "text/x-python",
   "name": "python",
   "nbconvert_exporter": "python",
   "pygments_lexer": "ipython3",
   "version": "3.12.9"
  }
 },
 "nbformat": 4,
 "nbformat_minor": 2
}
