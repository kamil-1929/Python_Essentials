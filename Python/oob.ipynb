{
 "cells": [
  {
   "cell_type": "markdown",
   "id": "4880f700",
   "metadata": {},
   "source": [
    "### Object Oriented Programming "
   ]
  },
  {
   "cell_type": "markdown",
   "id": "fe2e0c90",
   "metadata": {},
   "source": [
    "create a bank account class that has two attributes:\n",
    "\n",
    "- owner\n",
    "- balance\n",
    "\n",
    "and two methods:\n",
    "\n",
    "- deposit\n",
    "- withdraw\n",
    "\n",
    "As an added requirement, withdrawals may not exceed the available balance.\n",
    "\n",
    "Instantiate your class, make several deposits and withdrawals, and test to make sure the account can't be overdrawn."
   ]
  },
  {
   "cell_type": "code",
   "execution_count": 9,
   "id": "6c9c27ca",
   "metadata": {},
   "outputs": [
    {
     "name": "stdout",
     "output_type": "stream",
     "text": [
      "Account Owner: kamil\n",
      "Account Balance:36900\n",
      "Amount 3690 Deposited in to your account Successfully\n",
      "Account Owner: kamil\n",
      "Account Balance:40590\n",
      "3690 is Withdrawn from your account\n",
      "Account Owner: kamil\n",
      "Account Balance:36900\n"
     ]
    }
   ],
   "source": [
    "class BankAccount:\n",
    "    def __init__(self, owner, balance=0):\n",
    "        self.owner = owner\n",
    "        self.balance = balance\n",
    "    \n",
    "    def __str__(self):\n",
    "        return f'Account Owner: {self.owner}\\nAccount Balance:{self.balance}'\n",
    "    \n",
    "    def deposit(self, dep_amt):\n",
    "        self.balance += dep_amt\n",
    "        print(f'Amount {dep_amt} Deposited in to your account Successfully')\n",
    "    \n",
    "    def withdrawal(self, wd_amt):\n",
    "        if self.balance > wd_amt:\n",
    "            self.balance -= wd_amt\n",
    "            print(f'{wd_amt} is Withdrawn from your account')\n",
    "        else:\n",
    "            print('Insufficient Fund')\n",
    "            \n",
    "\n",
    "if __name__ == \"__main__\":\n",
    "    acc1 = BankAccount('kamil', 36900)\n",
    "    print(acc1)\n",
    "\n",
    "    acc1.deposit(3690)\n",
    "    print(acc1)\n",
    "    \n",
    "    acc1.withdrawal(3690)\n",
    "    print(acc1)\n",
    "    \n"
   ]
  },
  {
   "cell_type": "markdown",
   "id": "a690317a",
   "metadata": {},
   "source": [
    "### Problem 1\n",
    "Fill in the Line class methods to accept coordinates as a pair of tuples and return the slope and distance of the line."
   ]
  },
  {
   "cell_type": "code",
   "execution_count": 12,
   "id": "bd85cec9",
   "metadata": {},
   "outputs": [
    {
     "name": "stdout",
     "output_type": "stream",
     "text": [
      "9.433981132056603\n",
      "1.6\n"
     ]
    }
   ],
   "source": [
    "class Line:\n",
    "    def __init__(self, cor1, cor2):\n",
    "        self.cor1 = cor1\n",
    "        self.cor2 = cor2\n",
    "    \n",
    "    def distance(self):\n",
    "        x1, y1 = self.cor1\n",
    "        x2,y2 = self.cor2\n",
    "        return ((x2-x1)**2 + (y2-y1)**2)**0.5\n",
    "    \n",
    "    def slope(self):\n",
    "        x1,y1 = self.cor1\n",
    "        x2,y2 = self.cor2\n",
    "        return ((y2-y1)/(x2-x1))\n",
    "    \n",
    "coordinate1 = (3,2)\n",
    "coordinate2 = (8,10)\n",
    "\n",
    "li = Line(coordinate1,coordinate2)  \n",
    "print(li.distance())\n",
    "print(li.slope())\n",
    "    "
   ]
  },
  {
   "cell_type": "markdown",
   "id": "c4787d8d",
   "metadata": {},
   "source": [
    "### Problem 2\n",
    "Fill in the class"
   ]
  },
  {
   "cell_type": "code",
   "execution_count": 16,
   "id": "6f8ecda7",
   "metadata": {},
   "outputs": [
    {
     "name": "stdout",
     "output_type": "stream",
     "text": [
      "56.52\n",
      "94.2\n"
     ]
    }
   ],
   "source": [
    "class Cylinder:\n",
    "    def __init__(self, height=1, radius=1):\n",
    "        self.height = height\n",
    "        self.radius = radius\n",
    "    \n",
    "    def volume(self):\n",
    "        return self.height *3.14*(self.radius)**2\n",
    "    \n",
    "    def surface_area(self):\n",
    "        top = 3.14 * (self.radius)**2\n",
    "        return (2*top) + (2*3.14*self.radius*self.height)\n",
    "\n",
    "c = Cylinder(2,3)\n",
    "print(c.volume())\n",
    "print(c.surface_area())\n"
   ]
  }
 ],
 "metadata": {
  "kernelspec": {
   "display_name": "Python 3",
   "language": "python",
   "name": "python3"
  },
  "language_info": {
   "codemirror_mode": {
    "name": "ipython",
    "version": 3
   },
   "file_extension": ".py",
   "mimetype": "text/x-python",
   "name": "python",
   "nbconvert_exporter": "python",
   "pygments_lexer": "ipython3",
   "version": "3.10.0"
  }
 },
 "nbformat": 4,
 "nbformat_minor": 5
}
