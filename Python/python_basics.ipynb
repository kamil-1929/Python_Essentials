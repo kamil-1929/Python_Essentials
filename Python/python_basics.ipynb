{
 "cells": [
  {
   "cell_type": "markdown",
   "metadata": {},
   "source": [
    "Why to Use Python?\n",
    "Python can be used for :\n",
    "1.\tProgramming (for Placements/online contests/DSA)\n",
    "2.\tDevelopment (using a backend framework called Django)\n",
    "3.\tMachine Learning / Data Science / Artificial Intelligence\n"
   ]
  },
  {
   "cell_type": "code",
   "execution_count": 1,
   "metadata": {},
   "outputs": [
    {
     "name": "stdout",
     "output_type": "stream",
     "text": [
      "Hello World\n"
     ]
    }
   ],
   "source": [
    "# Our First Python Program\n",
    "print(\"Hello World\")\n"
   ]
  },
  {
   "cell_type": "markdown",
   "metadata": {},
   "source": [
    "Variables"
   ]
  },
  {
   "cell_type": "code",
   "execution_count": null,
   "metadata": {},
   "outputs": [],
   "source": [
    "# Basic Types in Python - numbers(integers, ﬂoating), boolean, strings"
   ]
  },
  {
   "cell_type": "code",
   "execution_count": null,
   "metadata": {},
   "outputs": [
    {
     "name": "stdout",
     "output_type": "stream",
     "text": [
      "Kamil\n",
      "23\n",
      "aman\n",
      "33\n"
     ]
    }
   ],
   "source": [
    "name = \"Kamil\" \n",
    "age = 23 \n",
    "print(name) \n",
    "print(age)"
   ]
  },
  {
   "cell_type": "code",
   "execution_count": 4,
   "metadata": {},
   "outputs": [
    {
     "name": "stdout",
     "output_type": "stream",
     "text": [
      "aman\n",
      "33\n"
     ]
    }
   ],
   "source": [
    "name = \"aman\" \n",
    "age = 33 \n",
    "print(name) \n",
    "print(age)\n"
   ]
  },
  {
   "cell_type": "code",
   "execution_count": 5,
   "metadata": {},
   "outputs": [
    {
     "name": "stdout",
     "output_type": "stream",
     "text": [
      "Mohamed Kamil\n",
      "29\n",
      "True\n"
     ]
    }
   ],
   "source": [
    "first_name = \"Mohamed\" \n",
    "last_name = \"Kamil\" \n",
    "age = 29\n",
    "is_adult = True\n",
    "\n",
    "print(first_name + \" \" + last_name) \n",
    "print(age)\n",
    "print(is_adult)\n"
   ]
  },
  {
   "cell_type": "code",
   "execution_count": 9,
   "metadata": {},
   "outputs": [
    {
     "name": "stdout",
     "output_type": "stream",
     "text": [
      "Solomon David\n",
      "99\n",
      "True\n"
     ]
    }
   ],
   "source": [
    "first_name = \"Solomon\" \n",
    "last_name = \"David\" \n",
    "age = 99 \n",
    "is_genius = True\n",
    "\n",
    "print(first_name + \" \" + last_name) \n",
    "print(age)\n",
    "print(is_genius)"
   ]
  },
  {
   "cell_type": "markdown",
   "metadata": {},
   "source": [
    "Taking Input"
   ]
  },
  {
   "cell_type": "code",
   "execution_count": 10,
   "metadata": {},
   "outputs": [
    {
     "name": "stdout",
     "output_type": "stream",
     "text": [
      "Hello Kamil\n",
      "Welcome to our cool Python class\n"
     ]
    }
   ],
   "source": [
    "name = input(\"What is your name? \") \n",
    "print(\"Hello \" + name)\n",
    "print(\"Welcome to our cool Python class\")\n"
   ]
  },
  {
   "cell_type": "code",
   "execution_count": 11,
   "metadata": {},
   "outputs": [
    {
     "name": "stdout",
     "output_type": "stream",
     "text": [
      "Shaktiman\n"
     ]
    }
   ],
   "source": [
    "superhero = input(\"What is your superhero name? \") \n",
    "print(superhero)"
   ]
  },
  {
   "cell_type": "markdown",
   "metadata": {},
   "source": [
    "Type Conversion"
   ]
  },
  {
   "cell_type": "code",
   "execution_count": 12,
   "metadata": {},
   "outputs": [
    {
     "name": "stdout",
     "output_type": "stream",
     "text": [
      "31\n"
     ]
    }
   ],
   "source": [
    "old_age = input(\"Enter your age : \") \n",
    "# new_age = old_age + 2 \n",
    "# #print(new_age)\n",
    "\n",
    "new_age = int(old_age) + 2 \n",
    "print(new_age)"
   ]
  },
  {
   "cell_type": "code",
   "execution_count": 13,
   "metadata": {},
   "outputs": [],
   "source": [
    "#Useful converion functions\n",
    "\t# 1. float()\n",
    "\t# 2. bool()\n",
    "\t# 3. str()\n",
    "\t# 4. int()\n"
   ]
  },
  {
   "cell_type": "code",
   "execution_count": 14,
   "metadata": {},
   "outputs": [
    {
     "name": "stdout",
     "output_type": "stream",
     "text": [
      "the sum is : 56.0\n"
     ]
    }
   ],
   "source": [
    "# Code for Sum of 2 Numbers\n",
    "first_number = input(\"Enter 1st number : \") \n",
    "second_number = input(\"Enter 2nd number : \") \n",
    "sum = float(first_number) + float(second_number)\n",
    "print(\"the sum is : \" + str(sum))"
   ]
  },
  {
   "cell_type": "markdown",
   "metadata": {},
   "source": [
    "Strings"
   ]
  },
  {
   "cell_type": "code",
   "execution_count": 19,
   "metadata": {},
   "outputs": [
    {
     "name": "stdout",
     "output_type": "stream",
     "text": [
      "ISMAIL ISHAK\n",
      "Ismail Ishak\n",
      "ismail ishak\n",
      "Ismail Ishak\n",
      "1\n",
      "0\n",
      "2\n",
      "9\n"
     ]
    }
   ],
   "source": [
    "name = \"Ismail Ishak\" \n",
    "print(name.upper()) \n",
    "print(name)\n",
    "\n",
    "print(name.lower()) \n",
    "print(name)\n",
    "\n",
    "\n",
    "print(name.find('s'))\n",
    "print(name.find('I')) \n",
    "print(name.find(\"mail\")) \n",
    "print(name.find(\"hak\"))\n"
   ]
  },
  {
   "cell_type": "code",
   "execution_count": 21,
   "metadata": {},
   "outputs": [
    {
     "name": "stdout",
     "output_type": "stream",
     "text": [
      "Iron man\n",
      "Tony Stark\n"
     ]
    }
   ],
   "source": [
    "name = \"Tony Stark\" \n",
    "print(name.replace(\"Tony Stark\", \"Iron man\")) \n",
    "print(name)"
   ]
  },
  {
   "cell_type": "code",
   "execution_count": 22,
   "metadata": {},
   "outputs": [
    {
     "name": "stdout",
     "output_type": "stream",
     "text": [
      "True\n",
      "False\n"
     ]
    }
   ],
   "source": [
    "#to check if a character/string is part of the main string print(\"Stark\" in name)\n",
    "print(\"S\" in name) \n",
    "print(\"s\" in name)\n"
   ]
  },
  {
   "cell_type": "markdown",
   "metadata": {},
   "source": [
    "Arithmetic Operators"
   ]
  },
  {
   "cell_type": "code",
   "execution_count": null,
   "metadata": {},
   "outputs": [
    {
     "name": "stdout",
     "output_type": "stream",
     "text": [
      "9\n",
      "3\n",
      "18\n",
      "3.0\n",
      "3\n",
      "3\n",
      "216\n"
     ]
    }
   ],
   "source": [
    "print(3 + 6)\n",
    "print(9 - 6)\n",
    "print(3 * 6)\n",
    "print(9 / 3)\n",
    "print( 9 // 3)\n",
    "print(9 % 6)\n",
    "print(6 ** 3)"
   ]
  },
  {
   "cell_type": "code",
   "execution_count": null,
   "metadata": {},
   "outputs": [],
   "source": [
    "i = 5\n",
    "i = i + 2 \n",
    "i += 2\n",
    "i -= 2\n",
    "i *= 2\n"
   ]
  },
  {
   "cell_type": "markdown",
   "metadata": {},
   "source": [
    "Operator Precedence"
   ]
  },
  {
   "cell_type": "code",
   "execution_count": 29,
   "metadata": {},
   "outputs": [
    {
     "name": "stdout",
     "output_type": "stream",
     "text": [
      "57\n"
     ]
    }
   ],
   "source": [
    "result = 3 + 6 * 9 # 81 or 57 ? \n",
    "print(result)"
   ]
  },
  {
   "cell_type": "markdown",
   "metadata": {},
   "source": [
    "Comparison Operators"
   ]
  },
  {
   "cell_type": "code",
   "execution_count": 30,
   "metadata": {},
   "outputs": [],
   "source": [
    "is_greater = 1 > 5\n",
    "is_lesser = 1 < 5\n",
    "# 1 <= 5\n",
    "# 1 >= 5\n",
    "is_not_equal = 1 != 5\n",
    "is_equal = 1 == 5\n"
   ]
  },
  {
   "cell_type": "markdown",
   "metadata": {},
   "source": [
    "Logical Operators"
   ]
  },
  {
   "cell_type": "code",
   "execution_count": 31,
   "metadata": {},
   "outputs": [
    {
     "name": "stdout",
     "output_type": "stream",
     "text": [
      "False\n",
      "True\n",
      "True\n",
      "False\n"
     ]
    }
   ],
   "source": [
    "# or -> (atleast one is true) \n",
    "# # and -> (both are true)\n",
    "# not -> (reverses any value)\n",
    "\n",
    "\n",
    "number = 2\n",
    "print(number > 3)\n",
    "print(number < 3) \n",
    "print(not number > 3) \n",
    "print(not number < 3)\n"
   ]
  },
  {
   "cell_type": "code",
   "execution_count": 32,
   "metadata": {},
   "outputs": [
    {
     "name": "stdout",
     "output_type": "stream",
     "text": [
      "False\n",
      "True\n"
     ]
    }
   ],
   "source": [
    "print(number > 3 and number > 1) \n",
    "print(number > 3 or number > 1)"
   ]
  },
  {
   "cell_type": "markdown",
   "metadata": {},
   "source": [
    "If statements"
   ]
  },
  {
   "cell_type": "code",
   "execution_count": 33,
   "metadata": {},
   "outputs": [
    {
     "name": "stdout",
     "output_type": "stream",
     "text": [
      "you are in school\n",
      "thank you\n"
     ]
    }
   ],
   "source": [
    "age = 13\n",
    "\n",
    "if age >= 18:\n",
    "\tprint(\"you are an adult\")\n",
    "\tprint(\"you can vote\") \n",
    "elif age < 3:\n",
    "\tprint(\"you are a child\") \n",
    "else:\n",
    "\tprint(\"you are in school\") \n",
    "print(\"thank you\")\n"
   ]
  },
  {
   "cell_type": "markdown",
   "metadata": {},
   "source": [
    "Let’s build a Calculator"
   ]
  },
  {
   "cell_type": "code",
   "execution_count": 35,
   "metadata": {},
   "outputs": [
    {
     "name": "stdout",
     "output_type": "stream",
     "text": [
      "First Entered Value : 33\n",
      "Second Entered Value : 23\n",
      "----press keys for operator (+,-,*,/,%)\t\n",
      "You have chosen Operator +\n",
      "56\n"
     ]
    }
   ],
   "source": [
    "#Our Calculator\n",
    "\n",
    "first = input(\"Enter first number : \") \n",
    "print(\"First Entered Value :\", first)\n",
    "second = input(\"Enter second number : \") \n",
    "print(\"Second Entered Value :\", second)\n",
    "first = int(first)\n",
    "second = int(second)\n",
    "\n",
    "print(\"----press keys for operator (+,-,*,/,%)\t\")\n",
    "\n",
    "operator = input(\"Enter operator : \")\n",
    "print(\"You have chosen Operator\", operator)\n",
    "\n",
    "if operator == \"+\":\n",
    "\tprint(first + second) \n",
    "elif operator == \"-\":\n",
    "\tprint(first - second) \n",
    "elif operator == \"*\":\n",
    "\tprint(first * second) \n",
    "elif operator == \"/\":\n",
    "\tprint(first / second) \n",
    "elif operator == \"%\":\n",
    "\tprint(first % second)\n",
    "else:\n",
    "\tprint(\"Invalid Operation\")\n",
    "\n"
   ]
  },
  {
   "cell_type": "markdown",
   "metadata": {},
   "source": [
    "Range in Python"
   ]
  },
  {
   "cell_type": "code",
   "execution_count": 36,
   "metadata": {},
   "outputs": [
    {
     "name": "stdout",
     "output_type": "stream",
     "text": [
      "range(0, 9)\n"
     ]
    }
   ],
   "source": [
    "# range() function returns a range object that is a sequence of numbers.\n",
    "\n",
    "numbers = range(9) \n",
    "print(numbers)\n"
   ]
  },
  {
   "cell_type": "markdown",
   "metadata": {},
   "source": [
    "Loops"
   ]
  },
  {
   "cell_type": "code",
   "execution_count": null,
   "metadata": {},
   "outputs": [
    {
     "name": "stdout",
     "output_type": "stream",
     "text": [
      "1\n",
      "2\n",
      "3\n",
      "4\n",
      "5\n",
      "6\n",
      "7\n",
      "8\n",
      "9\n",
      "*\n",
      "**\n",
      "***\n",
      "****\n",
      "*****\n",
      "******\n"
     ]
    }
   ],
   "source": [
    "# While\n",
    "\n",
    "i = 1\n",
    "while(i <= 9):\n",
    "\tprint(i)\n",
    "\ti = i + 1\n",
    "\n",
    "i = 1\n",
    "while(i <= 6):\n",
    "\tprint(i * \"*\")\n",
    "\ti = i + 1\n",
    "\n",
    "i = 5\n",
    "while(i >= 6):\n",
    "\tprint(i * \"*\")\n",
    "\ti = i - 1\n"
   ]
  },
  {
   "cell_type": "code",
   "execution_count": 40,
   "metadata": {},
   "outputs": [
    {
     "name": "stdout",
     "output_type": "stream",
     "text": [
      "0\n",
      "1\n",
      "2\n",
      "\n",
      "*\n",
      "**\n",
      "***\n",
      "****\n",
      "*****\n",
      "\n",
      "$\n",
      "$$\n",
      "$$$\n",
      "$$$$\n",
      "$$$$$\n",
      "$$$$$$\n",
      "$$$$$$$\n",
      "$$$$$$$$\n"
     ]
    }
   ],
   "source": [
    "# For Loop (to iterate over a list)\n",
    "\n",
    "for i in range(3):\n",
    "\tprint(i)\n",
    "\ti = i + 1\n",
    "\n",
    "for i in range(6):\n",
    "\tprint(i * \"*\")\n",
    "\ti = i + 1\n",
    "\n",
    "for i in range(9):\n",
    "\tprint(i * \"$\")\n",
    "\ti = i + 1"
   ]
  },
  {
   "cell_type": "markdown",
   "metadata": {},
   "source": [
    "Lists"
   ]
  },
  {
   "cell_type": "code",
   "execution_count": 42,
   "metadata": {},
   "outputs": [
    {
     "name": "stdout",
     "output_type": "stream",
     "text": [
      "amar\n",
      "akbar\n",
      "anthony\n",
      "akbar\n",
      "['aman', 'akbar', 'anthony']\n"
     ]
    }
   ],
   "source": [
    "friends = [\"amar\", \"akbar\", \"anthony\"] \n",
    "print(friends[0])\n",
    "print(friends[1])\n",
    "print(friends[-1]) \n",
    "print(friends[-2])\n",
    "\n",
    "friends[0] = \"aman\"\n",
    "print(friends)"
   ]
  },
  {
   "cell_type": "code",
   "execution_count": 43,
   "metadata": {},
   "outputs": [
    {
     "name": "stdout",
     "output_type": "stream",
     "text": [
      "['aman', 'akbar']\n",
      "aman\n",
      "akbar\n",
      "anthony\n"
     ]
    }
   ],
   "source": [
    "print(friends[0:2]) \n",
    "\n",
    "#returns a new list \n",
    "for friend in friends:\n",
    "    print(friend)\n"
   ]
  },
  {
   "cell_type": "code",
   "execution_count": 53,
   "metadata": {},
   "outputs": [
    {
     "name": "stdout",
     "output_type": "stream",
     "text": [
      "['english', 95, 'chemistry', 98, 'Physics', 99]\n",
      "['maths', 100, 'english', 95, 'chemistry', 98, 'Physics', 99]\n",
      "True\n",
      "4.0\n",
      "maths 100\n",
      "english 95\n",
      "chemistry 98\n",
      "Physics 99\n"
     ]
    }
   ],
   "source": [
    "#List Methods :\n",
    "marks = [\"english\", 95, \"chemistry\", 98] \n",
    "marks.append(\"Physics\")\n",
    "marks.append(99)\n",
    "print(marks)\n",
    "\n",
    "marks.insert(0, \"maths\")\n",
    "marks.insert(1, 100)\n",
    "print(marks)\n",
    "\n",
    "print(\"maths\" in marks)\n",
    "print(len(marks)/2)\n",
    "# marks.clear()\n",
    "# print(marks)\n",
    "\n",
    "i = 0\n",
    "while i < len(marks):\n",
    "    print(marks[i], marks[i+1])\n",
    "    i = i + 2\n"
   ]
  },
  {
   "cell_type": "markdown",
   "metadata": {},
   "source": [
    "Break & Continue"
   ]
  },
  {
   "cell_type": "code",
   "execution_count": 56,
   "metadata": {},
   "outputs": [
    {
     "name": "stdout",
     "output_type": "stream",
     "text": [
      "kantha\n",
      "ram\n",
      "krishan\n",
      "\n",
      "\n",
      "ram\n",
      "krishan\n",
      "radha\n",
      "valli\n"
     ]
    }
   ],
   "source": [
    "students = [ \"kantha\", \"ram\", \"krishan\", \"radha\", \"valli\"]\n",
    "\n",
    "for student in students:\n",
    "    if student ==\"radha\":\n",
    "        break\n",
    "    print(student)\n",
    "\n",
    "print(\"\\n\")\n",
    "for student in students:\n",
    "    if student == \"kantha\":\n",
    "        continue\n",
    "    print(student)\n",
    "    "
   ]
  },
  {
   "cell_type": "markdown",
   "metadata": {},
   "source": [
    "Tuples"
   ]
  },
  {
   "cell_type": "code",
   "execution_count": 60,
   "metadata": {},
   "outputs": [
    {
     "name": "stdout",
     "output_type": "stream",
     "text": [
      "2\n",
      "2\n"
     ]
    }
   ],
   "source": [
    "# They are like lists (sequence of objects) but they are immutable \n",
    "# i.e. once they have been defined we cannot change them.\n",
    "\n",
    "marks = (92, 99, 97, 97)\n",
    "#marks[0] = 98\n",
    "\n",
    "print(marks.count(97))\n",
    "print(marks.index(97))"
   ]
  },
  {
   "cell_type": "markdown",
   "metadata": {},
   "source": [
    "Sets"
   ]
  },
  {
   "cell_type": "code",
   "execution_count": null,
   "metadata": {},
   "outputs": [
    {
     "name": "stdout",
     "output_type": "stream",
     "text": [
      "{97, 99, 92, 95}\n",
      "97\n",
      "99\n",
      "92\n",
      "95\n"
     ]
    }
   ],
   "source": [
    "# Sets are a collection of all unique elements. Indexing is not supported in sets.\n",
    "\n",
    "marks = { 99, 92, 97, 99, 95}\n",
    "print(marks)\n",
    "\n",
    "for score in marks:\n",
    "    print(score)"
   ]
  },
  {
   "cell_type": "markdown",
   "metadata": {},
   "source": [
    "Dictionary"
   ]
  },
  {
   "cell_type": "code",
   "execution_count": 72,
   "metadata": {},
   "outputs": [
    {
     "name": "stdout",
     "output_type": "stream",
     "text": [
      "{'math': 99, 'chemistry': 92, 'physics': 100}\n",
      "{'math': 99, 'chemistry': 92, 'physics': 100, 'english': 96}\n",
      "{'math': 99, 'chemistry': 92, 'physics': 100, 'english': 96}\n",
      "dict_keys(['math', 'chemistry', 'physics', 'english'])\n",
      "dict_values([99, 92, 100, 96])\n"
     ]
    }
   ],
   "source": [
    "#Dictionary is an unordered collection of Items. Dictionary stores a (key, value) pair.\n",
    "\n",
    "marks = {\"math\": 99, \"chemistry\":92, \"physics\":100}\n",
    "print(marks)\n",
    "\n",
    "marks[\"english\"] = 96\n",
    "print(marks)\n",
    "\n",
    "marks[\"math\"] = 99\n",
    "print(marks)\n",
    "print(marks.keys())\n",
    "print(marks.values())"
   ]
  },
  {
   "cell_type": "markdown",
   "metadata": {},
   "source": [
    "Functions in Python"
   ]
  },
  {
   "cell_type": "code",
   "execution_count": 82,
   "metadata": {},
   "outputs": [
    {
     "name": "stdout",
     "output_type": "stream",
     "text": [
      "['__doc__', '__loader__', '__name__', '__package__', '__spec__', 'acos', 'acosh', 'asin', 'asinh', 'atan', 'atan2', 'atanh', 'cbrt', 'ceil', 'comb', 'copysign', 'cos', 'cosh', 'degrees', 'dist', 'e', 'erf', 'erfc', 'exp', 'exp2', 'expm1', 'fabs', 'factorial', 'floor', 'fmod', 'frexp', 'fsum', 'gamma', 'gcd', 'hypot', 'inf', 'isclose', 'isfinite', 'isinf', 'isnan', 'isqrt', 'lcm', 'ldexp', 'lgamma', 'log', 'log10', 'log1p', 'log2', 'modf', 'nan', 'nextafter', 'perm', 'pi', 'pow', 'prod', 'radians', 'remainder', 'sin', 'sinh', 'sqrt', 'sumprod', 'tan', 'tanh', 'tau', 'trunc', 'ulp']\n",
      "6\n",
      "9.0\n",
      "3\n",
      "['BPF', 'LOG4', 'NV_MAGICCONST', 'RECIP_BPF', 'Random', 'SG_MAGICCONST', 'SystemRandom', 'TWOPI', '_ONE', '_Sequence', '__all__', '__builtins__', '__cached__', '__doc__', '__file__', '__loader__', '__name__', '__package__', '__spec__', '_accumulate', '_acos', '_bisect', '_ceil', '_cos', '_e', '_exp', '_fabs', '_floor', '_index', '_inst', '_isfinite', '_lgamma', '_log', '_log2', '_os', '_pi', '_random', '_repeat', '_sha512', '_sin', '_sqrt', '_test', '_test_generator', '_urandom', '_warn', 'betavariate', 'binomialvariate', 'choice', 'choices', 'expovariate', 'gammavariate', 'gauss', 'getrandbits', 'getstate', 'lognormvariate', 'normalvariate', 'paretovariate', 'randbytes', 'randint', 'random', 'randrange', 'sample', 'seed', 'setstate', 'shuffle', 'triangular', 'uniform', 'vonmisesvariate', 'weibullvariate']\n",
      "['Formatter', 'Template', '_ChainMap', '__all__', '__builtins__', '__cached__', '__doc__', '__file__', '__loader__', '__name__', '__package__', '__spec__', '_re', '_sentinel_dict', '_string', 'ascii_letters', 'ascii_lowercase', 'ascii_uppercase', 'capwords', 'digits', 'hexdigits', 'octdigits', 'printable', 'punctuation', 'whitespace']\n",
      "2.0\n"
     ]
    }
   ],
   "source": [
    "# Function is a piece of code that performs some task. \n",
    "# (In a tv remote, each button performs a functions, so a function is like that button in code)\n",
    "\n",
    "# a.\tIn-built functions\n",
    "# # int() str() float() min() range() max()\n",
    "\n",
    "# b.\tModule functions\n",
    "# Module is a file that contains some functions & variables which can be imported for use in other files.\n",
    "# Each module should contain some related tasks Example : math, random, string\n",
    "\n",
    "\n",
    "import math\n",
    "print(dir(math))\n",
    "print(math.factorial(3))\n",
    "print(math.sqrt(81))\n",
    "print(math.gcd(9,3))\n",
    "\n",
    "import random\n",
    "print(dir(random))\n",
    "\n",
    "import string\n",
    "print(dir(string))\n",
    "\n",
    "from math import sqrt\n",
    "print(sqrt(4))"
   ]
  },
  {
   "cell_type": "code",
   "execution_count": 83,
   "metadata": {},
   "outputs": [
    {
     "name": "stdout",
     "output_type": "stream",
     "text": [
      "15\n",
      "9\n"
     ]
    }
   ],
   "source": [
    "# c.\tUser-defined functions\n",
    "\n",
    "def sum(a, b =3):\n",
    "    print(a+b)\n",
    "\n",
    "sum (9,6)\n",
    "sum(6)"
   ]
  }
 ],
 "metadata": {
  "kernelspec": {
   "display_name": "Python 3",
   "language": "python",
   "name": "python3"
  },
  "language_info": {
   "codemirror_mode": {
    "name": "ipython",
    "version": 3
   },
   "file_extension": ".py",
   "mimetype": "text/x-python",
   "name": "python",
   "nbconvert_exporter": "python",
   "pygments_lexer": "ipython3",
   "version": "3.12.9"
  }
 },
 "nbformat": 4,
 "nbformat_minor": 2
}
