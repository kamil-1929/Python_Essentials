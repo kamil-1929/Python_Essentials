{
 "cells": [
  {
   "cell_type": "markdown",
   "metadata": {},
   "source": [
    "## Practice Python"
   ]
  },
  {
   "cell_type": "code",
   "execution_count": 2,
   "metadata": {},
   "outputs": [
    {
     "name": "stdout",
     "output_type": "stream",
     "text": [
      "Most frequent IP 192.168.0.155 and its Count 2\n"
     ]
    }
   ],
   "source": [
    "from collections import Counter\n",
    "\n",
    "def get_frequent_ips(file_path):\n",
    "    with open(file_path, 'r') as file:\n",
    "        lines = file.readlines()\n",
    "        \n",
    "    ips = [line.split()[0] for line in lines if line.strip()]\n",
    "    counter = Counter(ips)\n",
    "    return counter.most_common(1)[0]\n",
    "\n",
    "file_path = 'log.txt'\n",
    "ip, count = get_frequent_ips(file_path)\n",
    "\n",
    "print(f\"Most frequent IP {ip} and its Count {count}\")\n"
   ]
  },
  {
   "cell_type": "markdown",
   "metadata": {},
   "source": [
    "## Functions #1: print Hello World\n",
    "Write a function called myfunc that prints the string 'Hello World'.\n",
    "\n",
    "For example:\n",
    "\n",
    "def myfunc():\n",
    "    print('Some text')"
   ]
  },
  {
   "cell_type": "code",
   "execution_count": 3,
   "metadata": {},
   "outputs": [
    {
     "name": "stdout",
     "output_type": "stream",
     "text": [
      "Hello World\n"
     ]
    }
   ],
   "source": [
    "def myfunc():\n",
    "    print(\"Hello World\")\n",
    "    \n",
    "myfunc()"
   ]
  },
  {
   "cell_type": "markdown",
   "metadata": {},
   "source": [
    "## Functions #2: print Hello Name\n",
    "\n",
    "Define a function called myfunc that takes in a name, and prints 'Hello Name' \n",
    "\n",
    "For example:\n",
    "\n",
    "def myfunc(name):\n",
    "    print('My name is {}'.format(name))\n",
    "\n",
    "\n",
    "myfunc('Kamil')\n",
    "#Output: My name is Kamil"
   ]
  },
  {
   "cell_type": "code",
   "execution_count": 4,
   "metadata": {},
   "outputs": [
    {
     "name": "stdout",
     "output_type": "stream",
     "text": [
      "Hello Kamil\n"
     ]
    }
   ],
   "source": [
    "def myfunc(name):\n",
    "    print(f'Hello {name}')\n",
    "\n",
    "myfunc('Kamil')"
   ]
  },
  {
   "cell_type": "markdown",
   "metadata": {},
   "source": [
    "## Functions #3 - simple Boolean\n",
    "\n",
    "Define a function called myfunc that takes in a Boolean value (True or False). If True, return 'Hello', and if False, return 'Goodbye'\n",
    "\n",
    "For example, a function that returns 'Inside' if a is True and 'Outside' if a is False could look like:\n",
    "\n",
    "def myfunc(a):\n",
    "    if a == True:\n",
    "        return 'Inside'\n",
    "    elif a == False:\n",
    "        return 'Outside'\n",
    "This is all you need to enter!\n",
    "\n",
    "To give an idea what the above function would look like when tested:\n",
    "\n",
    "myfunc(False)\n",
    "\n",
    "Output: 'Outside'"
   ]
  },
  {
   "cell_type": "code",
   "execution_count": 5,
   "metadata": {},
   "outputs": [
    {
     "name": "stdout",
     "output_type": "stream",
     "text": [
      "Hello\n",
      "Goodbye\n"
     ]
    }
   ],
   "source": [
    "def myfunc(a:bool):\n",
    "    if a == True:\n",
    "        return 'Hello'\n",
    "    return \"Goodbye\"\n",
    "        \n",
    "print(myfunc(1==1))\n",
    "print(myfunc(2>3))"
   ]
  },
  {
   "cell_type": "markdown",
   "metadata": {},
   "source": [
    "## Functions #4 - using Booleans\n",
    "\n",
    "Define a function called myfunc that takes three arguments, x, y and z.\n",
    "If z is True, return x.  If z is False, return y.\n",
    "\n",
    "\n",
    "For example, a function that returns a if c is True and b if c is False might look like:\n",
    "\n",
    "def myfunc(a,b,c):\n",
    "    if c == True:\n",
    "        return a\n",
    "    else:\n",
    "        return b\n",
    "This is all you need to enter!\n",
    "\n",
    "To give an idea what the function would look like when tested:\n",
    "\n",
    "myfunc('Hello','Goodbye',False)\n",
    "\n",
    "Output: 'Goodbye'"
   ]
  },
  {
   "cell_type": "code",
   "execution_count": 6,
   "metadata": {},
   "outputs": [
    {
     "name": "stdout",
     "output_type": "stream",
     "text": [
      "True\n",
      "False\n"
     ]
    }
   ],
   "source": [
    "def myfunc(x,y,z):\n",
    "    if z == True:\n",
    "        return x\n",
    "    else:\n",
    "        return y\n",
    "    \n",
    "print(myfunc(1==1, 2==2, 3==3))\n",
    "print(myfunc(2>3, 2==4, 9>10))"
   ]
  },
  {
   "cell_type": "markdown",
   "metadata": {},
   "source": [
    "## Functions #5: simple math\n",
    "\n",
    "Define a function called myfunc that takes in two arguments and returns their sum.\n",
    "\n",
    "\n",
    "For example, a function that takes in two arguments and returns their product might look like:\n",
    "\n",
    "def myfunc(a,b):\n",
    "    return a*b\n",
    "This is all you need to enter!\n",
    "\n",
    "To give an idea what the above function would look like when tested:\n",
    "\n",
    "myfunc(5,12)\n",
    "\n",
    " Output: 60"
   ]
  },
  {
   "cell_type": "code",
   "execution_count": 7,
   "metadata": {},
   "outputs": [
    {
     "data": {
      "text/plain": [
       "9"
      ]
     },
     "execution_count": 7,
     "metadata": {},
     "output_type": "execute_result"
    }
   ],
   "source": [
    "def myfunc(a, b):\n",
    "    return a + b \n",
    "    \n",
    "myfunc(3,6)"
   ]
  },
  {
   "cell_type": "markdown",
   "metadata": {},
   "source": [
    "## Functions #6: is even\n",
    "Define a function called is_even that takes in one argument, and returns True if the passed-in value is even, False if it is not.\n",
    "\n",
    "\n",
    "\n",
    "For example, a function that returns True if a value is divisible by 3 might look like:\n",
    "\n",
    "def is_evenly_divisible_by_3(n):\n",
    "    if n%3 == 0:\n",
    "        return True\n",
    "    else:\n",
    "        return False\n",
    "This is all you need to enter!\n",
    "\n",
    "To give an idea what the above function would look like when tested:\n",
    "\n",
    "is_evenly_divisible_by_3(15)\n",
    " Output: True\n",
    "Added note: this exercise requires that the function return True or False. Print statements will not work here."
   ]
  },
  {
   "cell_type": "code",
   "execution_count": 8,
   "metadata": {},
   "outputs": [
    {
     "name": "stdout",
     "output_type": "stream",
     "text": [
      "True\n"
     ]
    }
   ],
   "source": [
    "def is_even(num):\n",
    "    if num%2==0:\n",
    "        return True\n",
    "    else:\n",
    "        return False\n",
    "    \n",
    "print(is_even(10))"
   ]
  },
  {
   "cell_type": "markdown",
   "metadata": {},
   "source": [
    "## Functions #7: is greater\n",
    "\n",
    "Define a function called is_greater that takes in two arguments, and returns True if the first value is greater than the second, False if it is less than or equal to the second.\n",
    "\n",
    "\n",
    "For example, a function that returns True if the first value is less than the second might look like:\n",
    "\n",
    "def is_less(c,d):\n",
    "    if c < d:\n",
    "        return True\n",
    "    else:\n",
    "        return False\n",
    "This is all you need to enter!\n",
    "\n",
    "To give an idea what the above function would look like when tested:\n",
    "\n",
    "is_less(5,9)\n",
    " Output: True\n",
    "Added note: this exercise requires that the function return True or False. Print statements will not work here."
   ]
  },
  {
   "cell_type": "code",
   "execution_count": 9,
   "metadata": {},
   "outputs": [
    {
     "name": "stdout",
     "output_type": "stream",
     "text": [
      "True\n"
     ]
    }
   ],
   "source": [
    "def is_greater(c,d):\n",
    "    if c>d:\n",
    "        return True\n",
    "    else:\n",
    "        return False\n",
    "    \n",
    "print(is_greater(33, 19))"
   ]
  },
  {
   "cell_type": "markdown",
   "metadata": {},
   "source": [
    "## Functions #8: *args\n",
    "\n",
    "Define a function called myfunc that takes in an arbitrary number of arguments, and returns the sum of those arguments.\n",
    "\n",
    "\n",
    "\n",
    "For example, a function that returns a count of the number of arbitrary arguments might look like:\n",
    "\n",
    "def myfunc(*args):\n",
    "    return len(args)\n",
    "This is all you need to enter!\n",
    "\n",
    "To give an idea what the above function would look like when tested:\n",
    "\n",
    "myfunc(5,6,7,8)\n",
    " \n",
    "Output: 4\n",
    "Added note: this exercise requires that the function return the sum. Print statements will not work here."
   ]
  },
  {
   "cell_type": "code",
   "execution_count": 10,
   "metadata": {},
   "outputs": [
    {
     "name": "stdout",
     "output_type": "stream",
     "text": [
      "101\n"
     ]
    }
   ],
   "source": [
    "def myfunc(*args):\n",
    "    return sum(args)\n",
    "\n",
    "print(myfunc(29,39,33))"
   ]
  },
  {
   "cell_type": "markdown",
   "metadata": {},
   "source": [
    "## Functions #9: pick evens\n",
    "Define a function called myfunc that takes in an arbitrary number of arguments, and returns a list containing only those arguments that are even.\n",
    "\n",
    "\n",
    "\n",
    "To give an idea what the function would look like when tested:\n",
    "\n",
    "myfunc(5,6,7,8)\n",
    "\n",
    "Output: [6, 8]\n",
    "Added note: this exercise requires that the function return a list. Print statements will not work here."
   ]
  },
  {
   "cell_type": "code",
   "execution_count": 11,
   "metadata": {},
   "outputs": [
    {
     "data": {
      "text/plain": [
       "[2, 4, 6, 8, 10]"
      ]
     },
     "execution_count": 11,
     "metadata": {},
     "output_type": "execute_result"
    }
   ],
   "source": [
    "def myfunc(*args):\n",
    "    return [x for x in args if x%2==0]\n",
    "\n",
    "myfunc(1,2,3,4,5,6,7,8,9,10)"
   ]
  },
  {
   "cell_type": "markdown",
   "metadata": {},
   "source": [
    "## Functions #10: skyline\n",
    "\n",
    "Define a function called myfunc that takes in a string, and returns a matching string where every even letter is uppercase, and every odd letter is lowercase. Assume that the incoming string only contains letters, and don't worry about numbers, spaces or punctuation. The output string can start with either an uppercase or lowercase letter, so long as letters alternate throughout the string.\n",
    "\n",
    "To give an idea what the function would look like when tested:\n",
    "\n",
    "myfunc('Anthropomorphism')\n",
    "\n",
    "Output: 'aNtHrOpOmOrPhIsM'\n",
    "Added note: this exercise requires that the function return a string. Print statements will not work here."
   ]
  },
  {
   "cell_type": "code",
   "execution_count": 12,
   "metadata": {},
   "outputs": [
    {
     "data": {
      "text/plain": [
       "'aNtHrOpOmOrPhIsM'"
      ]
     },
     "execution_count": 12,
     "metadata": {},
     "output_type": "execute_result"
    }
   ],
   "source": [
    "def myfunc(word):\n",
    "    out = []\n",
    "    for i in range(len(word)):\n",
    "        if i%2 == 0:\n",
    "            out.append(word[i].lower())\n",
    "        else:\n",
    "            out.append(word[i].upper())\n",
    "    return \"\".join(out)\n",
    "        \n",
    "\n",
    "myfunc(\"Anthropomorphism\")  "
   ]
  },
  {
   "cell_type": "markdown",
   "metadata": {},
   "source": [
    "### LESSER OF TWO EVENS: Write a function that returns the lesser of two given numbers if both numbers are even, but returns the greater if one or both numbers are odd\n",
    "\n",
    "lesser_of_two_evens(2,4) --> 2\n",
    "\n",
    "lesser_of_two_evens(2,5) --> 5"
   ]
  },
  {
   "cell_type": "code",
   "execution_count": 13,
   "metadata": {},
   "outputs": [
    {
     "name": "stdout",
     "output_type": "stream",
     "text": [
      "2\n",
      "5\n"
     ]
    }
   ],
   "source": [
    "def lesser_of_two_nums(num1, num2):\n",
    "    if num1 % 2 == 0 and num2 %2 == 0:\n",
    "        return min(num1, num2)\n",
    "    else:\n",
    "        return max(num1, num2)\n",
    "     \n",
    "print(lesser_of_two_nums(2,4))\n",
    "print(lesser_of_two_nums(2,5))"
   ]
  },
  {
   "cell_type": "markdown",
   "metadata": {},
   "source": [
    "### ANIMAL CRACKERS: Write a function takes a two-word string and returns True if both words begin with same letter\n",
    "\n",
    "animal_crackers('Levelheaded Llama') --> True\n",
    "\n",
    "animal_crackers('Crazy Kangaroo') --> False"
   ]
  },
  {
   "cell_type": "code",
   "execution_count": 14,
   "metadata": {},
   "outputs": [
    {
     "name": "stdout",
     "output_type": "stream",
     "text": [
      "True\n",
      "False\n"
     ]
    }
   ],
   "source": [
    "def animal_crackers(word):\n",
    "    wordlist = word.split()\n",
    "    return wordlist[0][0] == wordlist[1][0]\n",
    "\n",
    "print(animal_crackers('Levelheaded Llama'))\n",
    "print(animal_crackers('Crazy Kangaroo'))"
   ]
  },
  {
   "cell_type": "markdown",
   "metadata": {},
   "source": [
    "### MAKES TWENTY: Given two integers, return True if the sum of the integers is 20 or if one of the integers is 20. If not, return False\n",
    "makes_twenty(20,10) --> True\n",
    "\n",
    "makes_twenty(12,8) --> True\n",
    "\n",
    "makes_twenty(2,3) --> False"
   ]
  },
  {
   "cell_type": "code",
   "execution_count": 15,
   "metadata": {},
   "outputs": [
    {
     "name": "stdout",
     "output_type": "stream",
     "text": [
      "True\n",
      "True\n",
      "False\n"
     ]
    }
   ],
   "source": [
    "def makes_twenty(n1, n2):\n",
    "    return n1==20 or n2==20 or (n1+n2) ==20\n",
    "\n",
    "print(makes_twenty(20,10))\n",
    "print(makes_twenty(12,8))\n",
    "print(makes_twenty(2,3))"
   ]
  },
  {
   "cell_type": "markdown",
   "metadata": {},
   "source": [
    "### LEVEL 1 PROBLEMS\n",
    "OLD MACDONALD: Write a function that capitalizes the first and fourth letters of a name\n",
    " \n",
    "old_macdonald('macdonald') --> MacDonald\n",
    "\n",
    "Note: 'macdonald'.capitalize() returns 'Macdonald'"
   ]
  },
  {
   "cell_type": "code",
   "execution_count": 16,
   "metadata": {},
   "outputs": [
    {
     "name": "stdout",
     "output_type": "stream",
     "text": [
      "MacDonald\n"
     ]
    }
   ],
   "source": [
    "def old_macdonald(word):\n",
    "    if len(word) >= 4:\n",
    "        return word[:3].capitalize() + word[3:].capitalize()\n",
    "    else:\n",
    "        return (\"The word is too short\")\n",
    "        \n",
    "\n",
    "print(old_macdonald('macdonald'))"
   ]
  },
  {
   "cell_type": "markdown",
   "metadata": {},
   "source": [
    "### MASTER YODA: Given a sentence, return a sentence with the words reversed\n",
    "\n",
    "master_yoda('I am home') --> 'home am I'\n",
    "\n",
    "master_yoda('We are ready') --> 'ready are We'"
   ]
  },
  {
   "cell_type": "code",
   "execution_count": 17,
   "metadata": {},
   "outputs": [
    {
     "name": "stdout",
     "output_type": "stream",
     "text": [
      "home am I\n",
      "ready are We\n"
     ]
    }
   ],
   "source": [
    "def master_yoda(sentence):\n",
    "    return ' '.join(sentence.split()[::-1])\n",
    "    \n",
    "print(master_yoda('I am home'))\n",
    "print(master_yoda('We are ready'))"
   ]
  },
  {
   "cell_type": "markdown",
   "metadata": {},
   "source": [
    "### ALMOST THERE: Given an integer n, return True if n is within 10 of either 100 or 200\n",
    "\n",
    "almost_there(90) --> True\n",
    "\n",
    "almost_there(104) --> True\n",
    "\n",
    "almost_there(150) --> False\n",
    "\n",
    "almost_there(209) --> True\n",
    "\n",
    "NOTE: abs(num) returns the absolute value of a number"
   ]
  },
  {
   "cell_type": "code",
   "execution_count": 18,
   "metadata": {},
   "outputs": [
    {
     "name": "stdout",
     "output_type": "stream",
     "text": [
      "True\n",
      "True\n",
      "False\n",
      "True\n"
     ]
    }
   ],
   "source": [
    "def almost_there(num):\n",
    "    return ((abs(100 - num) <=10) or (abs(200 -num) <=10))\n",
    "\n",
    "print(almost_there(90))\n",
    "print(almost_there(104))\n",
    "print(almost_there(150))\n",
    "print(almost_there(209))"
   ]
  },
  {
   "cell_type": "markdown",
   "metadata": {},
   "source": [
    "### FIND 33: Given a list of ints, return True if the array contains a 3 next to a 3 somewhere.\n",
    "\n",
    "has_33([1, 3, 3]) → True\n",
    "\n",
    "has_33([1, 3, 1, 3]) → False\n",
    "\n",
    "has_33([3, 1, 3]) → False"
   ]
  },
  {
   "cell_type": "code",
   "execution_count": 19,
   "metadata": {},
   "outputs": [
    {
     "name": "stdout",
     "output_type": "stream",
     "text": [
      "True\n",
      "False\n",
      "False\n"
     ]
    }
   ],
   "source": [
    "def has_33(nums):\n",
    "    for i in range(len(nums)-1):\n",
    "        # if nums[i] ==3 and nums[i+1] ==3:\n",
    "        #     return True\n",
    "        if nums[i:i+2] == [3,3]:\n",
    "            return True\n",
    "    return False\n",
    "\n",
    "print(has_33([1, 3, 3]))\n",
    "print(has_33([1, 3, 1, 3]))\n",
    "print(has_33([3, 1, 3]))"
   ]
  },
  {
   "cell_type": "markdown",
   "metadata": {},
   "source": [
    "### PAPER DOLL: Given a string, return a string where for every character in the original there are three characters\n",
    "\n",
    "paper_doll('Hello') --> 'HHHeeellllllooo'\n",
    "\n",
    "paper_doll('Mississippi') --> 'MMMiiissssssiiippppppiii'"
   ]
  },
  {
   "cell_type": "code",
   "execution_count": 20,
   "metadata": {},
   "outputs": [
    {
     "name": "stdout",
     "output_type": "stream",
     "text": [
      "HHHeeellllllooo\n",
      "MMMiiissssssiiissssssiiippppppiii\n"
     ]
    }
   ],
   "source": [
    "def paper_doll(word):\n",
    "    result = []\n",
    "    for char in word:\n",
    "        result.append(char*3)\n",
    "\n",
    "    return ''.join(result)\n",
    "\n",
    "print(paper_doll('Hello'))\n",
    "print(paper_doll('Mississippi'))"
   ]
  },
  {
   "cell_type": "markdown",
   "metadata": {},
   "source": [
    "### BLACKJACK: Given three integers between 1 and 11, if their sum is less than or equal to 21, return their sum. If their sum exceeds 21 and there's an eleven, reduce the total sum by 10. Finally, if the sum (even after adjustment) exceeds 21, return 'BUST'\n",
    "\n",
    "blackjack(5,6,7) --> 18\n",
    "\n",
    "blackjack(9,9,9) --> 'BUST'\n",
    "\n",
    "blackjack(9,9,11) --> 19"
   ]
  },
  {
   "cell_type": "code",
   "execution_count": 21,
   "metadata": {},
   "outputs": [
    {
     "name": "stdout",
     "output_type": "stream",
     "text": [
      "18\n",
      "BUST\n",
      "19\n"
     ]
    }
   ],
   "source": [
    "def blackjack(a,b,c):\n",
    "    \n",
    "    sum_of_all = a + b + c\n",
    "    \n",
    "    if sum_of_all <= 21:\n",
    "        return sum_of_all\n",
    "    \n",
    "    elif sum_of_all > 21  and 11 in (a,b,c):\n",
    "        sum_of_all = sum_of_all - 10\n",
    "        return sum_of_all\n",
    "    \n",
    "    if sum_of_all > 21:\n",
    "        return \"BUST\"\n",
    "        \n",
    "print(blackjack(5,6,7))\n",
    "print(blackjack(9,9,9))\n",
    "print(blackjack(9,9,11))\n",
    "    "
   ]
  },
  {
   "cell_type": "markdown",
   "metadata": {},
   "source": [
    "### SUMMER OF '69: Return the sum of the numbers in the array, except ignore sections of numbers starting with a 6 and extending to the next 9 (every 6 will be followed by at least one 9). Return 0 for no numbers.\n",
    "\n",
    "summer_69([1, 3, 5]) --> 9\n",
    "\n",
    "summer_69([4, 5, 6, 7, 8, 9]) --> 9\n",
    "\n",
    "summer_69([2, 1, 6, 9, 11]) --> 14"
   ]
  },
  {
   "cell_type": "code",
   "execution_count": 23,
   "metadata": {},
   "outputs": [
    {
     "name": "stdout",
     "output_type": "stream",
     "text": [
      "9\n",
      "9\n",
      "14\n",
      "9\n"
     ]
    }
   ],
   "source": [
    "def summer_69(arr):\n",
    "    total = 0\n",
    "    skip = False\n",
    "    \n",
    "    for num in arr:\n",
    "        if num == 6:\n",
    "            skip = True\n",
    "        elif num == 9 and skip: \n",
    "            skip = False\n",
    "        elif not skip:\n",
    "            total += num\n",
    "    return total\n",
    "        \n",
    "    \n",
    "print(summer_69([1, 3, 5]))\n",
    "print(summer_69([4, 5, 6, 7, 8, 9]))\n",
    "print(summer_69([2, 1, 6, 9, 11]))\n",
    "print(summer_69([4, 5, 6, 7, 8]))"
   ]
  },
  {
   "cell_type": "markdown",
   "metadata": {},
   "source": [
    "### CHALLENGING PROBLEMS\n",
    "SPY GAME: Write a function that takes in a list of integers and returns True if it contains 007 in order\n",
    "\n",
    " spy_game([1,2,4,0,0,7,5]) --> True\n",
    "\n",
    " spy_game([1,0,2,4,0,5,7]) --> True\n",
    " \n",
    " spy_game([1,7,2,0,4,5,0]) --> False"
   ]
  },
  {
   "cell_type": "code",
   "execution_count": 24,
   "metadata": {},
   "outputs": [
    {
     "name": "stdout",
     "output_type": "stream",
     "text": [
      "True\n",
      "True\n",
      "False\n"
     ]
    }
   ],
   "source": [
    "def spy_game(arr):\n",
    "    secret_code = [0,0,7]\n",
    "    \n",
    "    for num in arr:\n",
    "        if secret_code and num == secret_code[0]:\n",
    "            secret_code.pop(0)\n",
    "    \n",
    "    return len(secret_code) == 0\n",
    "\n",
    "print(spy_game([1,2,4,0,0,7,5]))\n",
    "print(spy_game([1,0,2,4,0,5,7]))\n",
    "print(spy_game([1,7,2,0,4,5,0]))"
   ]
  },
  {
   "cell_type": "markdown",
   "metadata": {},
   "source": [
    "### COUNT PRIMES: Write a function that returns the number of prime numbers that exist up to and including a given number\n",
    "\n",
    "count_primes(100) --> 25\n",
    "\n",
    "By convention, 0 and 1 are not prime."
   ]
  },
  {
   "cell_type": "code",
   "execution_count": 25,
   "metadata": {},
   "outputs": [
    {
     "data": {
      "text/plain": [
       "25"
      ]
     },
     "execution_count": 25,
     "metadata": {},
     "output_type": "execute_result"
    }
   ],
   "source": [
    "def count_primes(num):\n",
    "    def is_prime(n):\n",
    "        if n < 2:\n",
    "            return False\n",
    "        for i in range(2, int(n**.5) + 1):\n",
    "            if n%i == 0:\n",
    "                return False\n",
    "        return True\n",
    "    \n",
    "    count = 0\n",
    "    for i in range(num+1):\n",
    "        if is_prime(i):\n",
    "            count +=1\n",
    "    return count\n",
    "\n",
    "count_primes(100)"
   ]
  },
  {
   "cell_type": "markdown",
   "metadata": {},
   "source": [
    "### PRINT BIG: Write a function that takes in a single letter, and returns a 5x5 representation of that letter\n",
    "\n",
    "print_big('a')\n",
    "\n",
    "```\n",
    "out: \n",
    "   *  \n",
    "  * *\n",
    " *****\n",
    " *   *\n",
    " *   *\n",
    "```     \n",
    "HINT: Consider making a dictionary of possible patterns, and mapping the alphabet to specific 5-line combinations of patterns.\n",
    "For purposes of this exercise, it's ok if your dictionary stops at \"E\"."
   ]
  },
  {
   "cell_type": "code",
   "execution_count": 26,
   "metadata": {},
   "outputs": [
    {
     "name": "stdout",
     "output_type": "stream",
     "text": [
      "  *  \n",
      " * * \n",
      "*   *\n",
      "*****\n",
      "*   *\n",
      "*   *\n",
      "\n",
      "\n",
      "**** \n",
      "*   *\n",
      "**** \n",
      "*   *\n",
      "**** \n",
      "\n",
      "\n",
      "*****\n",
      "*    \n",
      "*****\n",
      "*    \n",
      "*****\n"
     ]
    }
   ],
   "source": [
    "def print_big(letter):\n",
    "    patterns = {1:'  *  ',2:' * * ',3:'*   *',4:'*****',5:'**** ',6:'   * ',7:' *   ',8:'*   * ',9:'*    '}\n",
    "    alphabet = {'A':[1,2,3,4,3,3],'B':[5,3,5,3,5],'C':[4,9,9,9,4],'D':[5,3,3,3,5],'E':[4,9,4,9,4]} \n",
    "    for pattern in alphabet[letter.upper()]:\n",
    "        print(patterns[pattern])  \n",
    "        \n",
    "print_big('a')\n",
    "print('\\n')\n",
    "print_big('b')\n",
    "print('\\n')\n",
    "print_big('e')"
   ]
  }
 ],
 "metadata": {
  "kernelspec": {
   "display_name": "Python 3",
   "language": "python",
   "name": "python3"
  },
  "language_info": {
   "codemirror_mode": {
    "name": "ipython",
    "version": 3
   },
   "file_extension": ".py",
   "mimetype": "text/x-python",
   "name": "python",
   "nbconvert_exporter": "python",
   "pygments_lexer": "ipython3",
   "version": "3.10.0"
  }
 },
 "nbformat": 4,
 "nbformat_minor": 2
}
