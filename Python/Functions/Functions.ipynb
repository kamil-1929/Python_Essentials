{
 "cells": [
  {
   "cell_type": "markdown",
   "metadata": {},
   "source": [
    "## Practice Python"
   ]
  },
  {
   "cell_type": "code",
   "execution_count": 34,
   "metadata": {},
   "outputs": [
    {
     "name": "stdout",
     "output_type": "stream",
     "text": [
      "Most frequent IP 66.249.73.185 and its Count 4\n"
     ]
    }
   ],
   "source": [
    "from collections import Counter\n",
    "\n",
    "def get_frequent_ips(file_path):\n",
    "    with open(file_path, 'r') as file:\n",
    "        lines = file.readlines()\n",
    "        \n",
    "    ips = [line.split()[0] for line in lines if line.strip()]\n",
    "    counter = Counter(ips)\n",
    "    return counter.most_common(1)[0]\n",
    "\n",
    "file_path = 'log.txt'\n",
    "ip, count = get_frequent_ips(file_path)\n",
    "\n",
    "print(f\"Most frequent IP {ip} and its Count {count}\")\n"
   ]
  },
  {
   "cell_type": "markdown",
   "metadata": {},
   "source": [
    "## Functions #1: print Hello World\n",
    "Write a function called myfunc that prints the string 'Hello World'.\n",
    "\n",
    "For example:\n",
    "\n",
    "def myfunc():\n",
    "    print('Some text')"
   ]
  },
  {
   "cell_type": "code",
   "execution_count": 1,
   "metadata": {},
   "outputs": [
    {
     "name": "stdout",
     "output_type": "stream",
     "text": [
      "Hello World\n"
     ]
    }
   ],
   "source": [
    "def myfunc():\n",
    "    print(\"Hello World\")\n",
    "    \n",
    "myfunc()"
   ]
  },
  {
   "cell_type": "markdown",
   "metadata": {},
   "source": [
    "## Functions #2: print Hello Name\n",
    "\n",
    "Define a function called myfunc that takes in a name, and prints 'Hello Name' \n",
    "\n",
    "For example:\n",
    "\n",
    "def myfunc(name):\n",
    "    print('My name is {}'.format(name))\n",
    "\n",
    "\n",
    "myfunc('Kamil')\n",
    "#Output: My name is Kamil"
   ]
  },
  {
   "cell_type": "code",
   "execution_count": 3,
   "metadata": {},
   "outputs": [
    {
     "name": "stdout",
     "output_type": "stream",
     "text": [
      "Hello Kamil\n"
     ]
    }
   ],
   "source": [
    "def myfunc(name):\n",
    "    print(f'Hello {name}')\n",
    "\n",
    "myfunc('Kamil')"
   ]
  },
  {
   "cell_type": "markdown",
   "metadata": {},
   "source": [
    "## Functions #3 - simple Boolean\n",
    "\n",
    "Define a function called myfunc that takes in a Boolean value (True or False). If True, return 'Hello', and if False, return 'Goodbye'\n",
    "\n",
    "For example, a function that returns 'Inside' if a is True and 'Outside' if a is False could look like:\n",
    "\n",
    "def myfunc(a):\n",
    "    if a == True:\n",
    "        return 'Inside'\n",
    "    elif a == False:\n",
    "        return 'Outside'\n",
    "This is all you need to enter!\n",
    "\n",
    "To give an idea what the above function would look like when tested:\n",
    "\n",
    "myfunc(False)\n",
    "\n",
    "Output: 'Outside'"
   ]
  },
  {
   "cell_type": "code",
   "execution_count": 6,
   "metadata": {},
   "outputs": [
    {
     "name": "stdout",
     "output_type": "stream",
     "text": [
      "Hello\n",
      "Goodbye\n"
     ]
    }
   ],
   "source": [
    "def myfunc(a:bool):\n",
    "    if a == True:\n",
    "        return 'Hello'\n",
    "    return \"Goodbye\"\n",
    "        \n",
    "print(myfunc(1==1))\n",
    "print(myfunc(2>3))"
   ]
  },
  {
   "cell_type": "markdown",
   "metadata": {},
   "source": [
    "## Functions #4 - using Booleans\n",
    "\n",
    "Define a function called myfunc that takes three arguments, x, y and z.\n",
    "If z is True, return x.  If z is False, return y.\n",
    "\n",
    "\n",
    "For example, a function that returns a if c is True and b if c is False might look like:\n",
    "\n",
    "def myfunc(a,b,c):\n",
    "    if c == True:\n",
    "        return a\n",
    "    else:\n",
    "        return b\n",
    "This is all you need to enter!\n",
    "\n",
    "To give an idea what the function would look like when tested:\n",
    "\n",
    "myfunc('Hello','Goodbye',False)\n",
    "\n",
    "Output: 'Goodbye'"
   ]
  },
  {
   "cell_type": "code",
   "execution_count": 8,
   "metadata": {},
   "outputs": [
    {
     "name": "stdout",
     "output_type": "stream",
     "text": [
      "True\n",
      "False\n"
     ]
    }
   ],
   "source": [
    "def myfunc(x,y,z):\n",
    "    if z == True:\n",
    "        return x\n",
    "    else:\n",
    "        return y\n",
    "    \n",
    "print(myfunc(1==1, 2==2, 3==3))\n",
    "print(myfunc(2>3, 2==4, 9>10))"
   ]
  },
  {
   "cell_type": "markdown",
   "metadata": {},
   "source": [
    "## Functions #5: simple math\n",
    "\n",
    "Define a function called myfunc that takes in two arguments and returns their sum.\n",
    "\n",
    "\n",
    "For example, a function that takes in two arguments and returns their product might look like:\n",
    "\n",
    "def myfunc(a,b):\n",
    "    return a*b\n",
    "This is all you need to enter!\n",
    "\n",
    "To give an idea what the above function would look like when tested:\n",
    "\n",
    "myfunc(5,12)\n",
    "\n",
    " Output: 60"
   ]
  },
  {
   "cell_type": "code",
   "execution_count": 9,
   "metadata": {},
   "outputs": [
    {
     "data": {
      "text/plain": [
       "9"
      ]
     },
     "execution_count": 9,
     "metadata": {},
     "output_type": "execute_result"
    }
   ],
   "source": [
    "def myfunc(a, b):\n",
    "    return a + b \n",
    "    \n",
    "myfunc(3,6)"
   ]
  },
  {
   "cell_type": "markdown",
   "metadata": {},
   "source": [
    "## Functions #6: is even\n",
    "Define a function called is_even that takes in one argument, and returns True if the passed-in value is even, False if it is not.\n",
    "\n",
    "\n",
    "\n",
    "For example, a function that returns True if a value is divisible by 3 might look like:\n",
    "\n",
    "def is_evenly_divisible_by_3(n):\n",
    "    if n%3 == 0:\n",
    "        return True\n",
    "    else:\n",
    "        return False\n",
    "This is all you need to enter!\n",
    "\n",
    "To give an idea what the above function would look like when tested:\n",
    "\n",
    "is_evenly_divisible_by_3(15)\n",
    " Output: True\n",
    "Added note: this exercise requires that the function return True or False. Print statements will not work here."
   ]
  },
  {
   "cell_type": "code",
   "execution_count": 10,
   "metadata": {},
   "outputs": [
    {
     "name": "stdout",
     "output_type": "stream",
     "text": [
      "True\n"
     ]
    }
   ],
   "source": [
    "def is_even(num):\n",
    "    if num%2==0:\n",
    "        return True\n",
    "    else:\n",
    "        return False\n",
    "    \n",
    "print(is_even(10))"
   ]
  },
  {
   "cell_type": "markdown",
   "metadata": {},
   "source": [
    "## Functions #7: is greater\n",
    "\n",
    "Define a function called is_greater that takes in two arguments, and returns True if the first value is greater than the second, False if it is less than or equal to the second.\n",
    "\n",
    "\n",
    "For example, a function that returns True if the first value is less than the second might look like:\n",
    "\n",
    "def is_less(c,d):\n",
    "    if c < d:\n",
    "        return True\n",
    "    else:\n",
    "        return False\n",
    "This is all you need to enter!\n",
    "\n",
    "To give an idea what the above function would look like when tested:\n",
    "\n",
    "is_less(5,9)\n",
    " Output: True\n",
    "Added note: this exercise requires that the function return True or False. Print statements will not work here."
   ]
  },
  {
   "cell_type": "code",
   "execution_count": 11,
   "metadata": {},
   "outputs": [
    {
     "name": "stdout",
     "output_type": "stream",
     "text": [
      "True\n"
     ]
    }
   ],
   "source": [
    "def is_greater(c,d):\n",
    "    if c>d:\n",
    "        return True\n",
    "    else:\n",
    "        return False\n",
    "    \n",
    "print(is_greater(33, 19))"
   ]
  },
  {
   "cell_type": "markdown",
   "metadata": {},
   "source": [
    "## Functions #8: *args\n",
    "\n",
    "Define a function called myfunc that takes in an arbitrary number of arguments, and returns the sum of those arguments.\n",
    "\n",
    "\n",
    "\n",
    "For example, a function that returns a count of the number of arbitrary arguments might look like:\n",
    "\n",
    "def myfunc(*args):\n",
    "    return len(args)\n",
    "This is all you need to enter!\n",
    "\n",
    "To give an idea what the above function would look like when tested:\n",
    "\n",
    "myfunc(5,6,7,8)\n",
    " \n",
    "Output: 4\n",
    "Added note: this exercise requires that the function return the sum. Print statements will not work here."
   ]
  },
  {
   "cell_type": "code",
   "execution_count": 15,
   "metadata": {},
   "outputs": [
    {
     "name": "stdout",
     "output_type": "stream",
     "text": [
      "101\n"
     ]
    }
   ],
   "source": [
    "def myfunc(*args):\n",
    "    return sum(args)\n",
    "\n",
    "print(myfunc(29,39,33))"
   ]
  },
  {
   "cell_type": "markdown",
   "metadata": {},
   "source": [
    "## Functions #9: pick evens\n",
    "Define a function called myfunc that takes in an arbitrary number of arguments, and returns a list containing only those arguments that are even.\n",
    "\n",
    "\n",
    "\n",
    "To give an idea what the function would look like when tested:\n",
    "\n",
    "myfunc(5,6,7,8)\n",
    "\n",
    "Output: [6, 8]\n",
    "Added note: this exercise requires that the function return a list. Print statements will not work here."
   ]
  },
  {
   "cell_type": "code",
   "execution_count": 16,
   "metadata": {},
   "outputs": [
    {
     "data": {
      "text/plain": [
       "[2, 4, 6, 8, 10]"
      ]
     },
     "execution_count": 16,
     "metadata": {},
     "output_type": "execute_result"
    }
   ],
   "source": [
    "def myfunc(*args):\n",
    "    return [x for x in args if x%2==0]\n",
    "\n",
    "myfunc(1,2,3,4,5,6,7,8,9,10)"
   ]
  },
  {
   "cell_type": "markdown",
   "metadata": {},
   "source": [
    "## Functions #10: skyline\n",
    "\n",
    "Define a function called myfunc that takes in a string, and returns a matching string where every even letter is uppercase, and every odd letter is lowercase. Assume that the incoming string only contains letters, and don't worry about numbers, spaces or punctuation. The output string can start with either an uppercase or lowercase letter, so long as letters alternate throughout the string.\n",
    "\n",
    "To give an idea what the function would look like when tested:\n",
    "\n",
    "myfunc('Anthropomorphism')\n",
    "\n",
    "Output: 'aNtHrOpOmOrPhIsM'\n",
    "Added note: this exercise requires that the function return a string. Print statements will not work here."
   ]
  },
  {
   "cell_type": "code",
   "execution_count": 1,
   "metadata": {},
   "outputs": [
    {
     "data": {
      "text/plain": [
       "'aNtHrOpOmOrPhIsM'"
      ]
     },
     "execution_count": 1,
     "metadata": {},
     "output_type": "execute_result"
    }
   ],
   "source": [
    "def myfunc(word):\n",
    "    out = []\n",
    "    for i in range(len(word)):\n",
    "        if i%2 == 0:\n",
    "            out.append(word[i].lower())\n",
    "        else:\n",
    "            out.append(word[i].upper())\n",
    "    return \"\".join(out)\n",
    "        \n",
    "\n",
    "myfunc(\"Anthropomorphism\")  "
   ]
  },
  {
   "cell_type": "markdown",
   "metadata": {},
   "source": []
  },
  {
   "cell_type": "code",
   "execution_count": null,
   "metadata": {},
   "outputs": [],
   "source": []
  }
 ],
 "metadata": {
  "kernelspec": {
   "display_name": "Python 3",
   "language": "python",
   "name": "python3"
  },
  "language_info": {
   "codemirror_mode": {
    "name": "ipython",
    "version": 3
   },
   "file_extension": ".py",
   "mimetype": "text/x-python",
   "name": "python",
   "nbconvert_exporter": "python",
   "pygments_lexer": "ipython3",
   "version": "3.10.0"
  }
 },
 "nbformat": 4,
 "nbformat_minor": 2
}
