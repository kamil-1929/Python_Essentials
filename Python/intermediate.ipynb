{
 "cells": [
  {
   "cell_type": "markdown",
   "id": "e05a3148",
   "metadata": {},
   "source": []
  }
 ],
 "metadata": {
  "language_info": {
   "name": "python"
  }
 },
 "nbformat": 4,
 "nbformat_minor": 5
}
