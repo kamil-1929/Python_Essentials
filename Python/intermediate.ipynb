{
 "cells": [
  {
   "cell_type": "markdown",
   "id": "43ba24cc",
   "metadata": {},
   "source": [
    "### map()\n",
    "\n",
    "map() is a built-in Python function that takes in two or more arguments: a function and one or more iterables, in the form:\n",
    "\n",
    "map(function, iterable, ...)\n"
   ]
  },
  {
   "cell_type": "code",
   "execution_count": 1,
   "id": "fd2162ee",
   "metadata": {},
   "outputs": [],
   "source": [
    "def fahrenheit(celsius):\n",
    "    return (9/5)*celsius +32\n",
    "\n",
    "temps = [0,22,40,36.9,99]"
   ]
  },
  {
   "cell_type": "code",
   "execution_count": 2,
   "id": "66b3f9a1",
   "metadata": {},
   "outputs": [
    {
     "data": {
      "text/plain": [
       "[32.0, 71.6, 104.0, 98.42, 210.20000000000002]"
      ]
     },
     "execution_count": 2,
     "metadata": {},
     "output_type": "execute_result"
    }
   ],
   "source": [
    "F_temps = map(fahrenheit, temps)\n",
    "list(F_temps)"
   ]
  },
  {
   "cell_type": "markdown",
   "id": "238e9cd9",
   "metadata": {},
   "source": [
    "In the example above, map() applies the fahrenheit function to every item in temps. However, we don't have to define our functions beforehand; we can use a lambda expression instead:\n"
   ]
  },
  {
   "cell_type": "code",
   "execution_count": 4,
   "id": "7e45d669",
   "metadata": {},
   "outputs": [
    {
     "data": {
      "text/plain": [
       "[32.0, 71.6, 104.0, 98.42, 210.20000000000002]"
      ]
     },
     "execution_count": 4,
     "metadata": {},
     "output_type": "execute_result"
    }
   ],
   "source": [
    "list(map(lambda x: (9/5) * x + 32, temps))"
   ]
  },
  {
   "cell_type": "markdown",
   "id": "52c2bce8",
   "metadata": {},
   "source": [
    "### map() with multiple iterables\n",
    "\n",
    "map() can accept more than one iterable. The iterables should be the same length - in the event that they are not, map() will stop as soon as the shortest iterable is exhausted.\n",
    "\n",
    "For instance, if our function is trying to add two values x and y, we can pass a list of x values and another list of y values to map(). The function (or lambda) will be fed the 0th index from each list, and then the 1st index, and so on until the n-th index is reached.\n"
   ]
  },
  {
   "cell_type": "code",
   "execution_count": 5,
   "id": "bd1df89f",
   "metadata": {},
   "outputs": [
    {
     "data": {
      "text/plain": [
       "[6, 8, 10, 12]"
      ]
     },
     "execution_count": 5,
     "metadata": {},
     "output_type": "execute_result"
    }
   ],
   "source": [
    "a = [1,2,3,4]\n",
    "b = [5,6,7,8]\n",
    "c = [9,10,11,12]\n",
    "\n",
    "list(map(lambda x,y:x+y, a, b))"
   ]
  },
  {
   "cell_type": "code",
   "execution_count": 6,
   "id": "fd8f105c",
   "metadata": {},
   "outputs": [
    {
     "data": {
      "text/plain": [
       "[15, 18, 21, 24]"
      ]
     },
     "execution_count": 6,
     "metadata": {},
     "output_type": "execute_result"
    }
   ],
   "source": [
    "list(map(lambda x,y,z:x+y+z, a,b,c))"
   ]
  },
  {
   "cell_type": "markdown",
   "id": "09463df4",
   "metadata": {},
   "source": [
    "### reduce()\n",
    "\n",
    "The function reduce(function, sequence) continually applies the function to the sequence. It then returns a single value.\n",
    "\n",
    "If seq = [ s1, s2, s3, ... , sn ], calling reduce(function, sequence) works like this:\n",
    "\n",
    "At first the first two elements of seq will be applied to function, i.e. func(s1,s2)\n",
    "\n",
    "The list on which reduce() works looks now like this: [ function(s1, s2), s3, ... , sn ]\n",
    "\n",
    "In the next step the function will be applied on the previous result and the third element of the list, i.e. function(function(s1, s2),s3)\n",
    "The list looks like this now: [ function(function(s1, s2),s3), ... , sn ]\n",
    "It continues like this until just one element is left and return this element as the result of reduce()\n"
   ]
  },
  {
   "cell_type": "code",
   "execution_count": 7,
   "id": "00c99f3c",
   "metadata": {},
   "outputs": [
    {
     "data": {
      "text/plain": [
       "93"
      ]
     },
     "execution_count": 7,
     "metadata": {},
     "output_type": "execute_result"
    }
   ],
   "source": [
    "from functools import reduce\n",
    "\n",
    "lst = [3,6,9,39,36]\n",
    "reduce(lambda x,y:x+y, lst)"
   ]
  },
  {
   "cell_type": "code",
   "execution_count": 9,
   "id": "ffc990d7",
   "metadata": {},
   "outputs": [],
   "source": [
    "# from IPython.display import Image\n",
    "# Image('http://www.python-course.eu/images/reduce_diagram.png')"
   ]
  },
  {
   "cell_type": "code",
   "execution_count": 10,
   "id": "ba3b7769",
   "metadata": {},
   "outputs": [],
   "source": [
    "#Find the maximum of a sequence (This already exists as max())\n",
    "max_find = lambda a,b: a if (a>b) else b"
   ]
  },
  {
   "cell_type": "code",
   "execution_count": 11,
   "id": "17264c5f",
   "metadata": {},
   "outputs": [
    {
     "data": {
      "text/plain": [
       "39"
      ]
     },
     "execution_count": 11,
     "metadata": {},
     "output_type": "execute_result"
    }
   ],
   "source": [
    "reduce (max_find, lst)"
   ]
  },
  {
   "cell_type": "markdown",
   "id": "a56b337a",
   "metadata": {},
   "source": [
    "### filter\n",
    "\n",
    "The function filter(function, list) offers a convenient way to filter out all the elements of an iterable, for which the function returns True.\n",
    "\n",
    "The function filter(function,list) needs a function as its first argument. The function needs to return a Boolean value (either True or False). This function will be applied to every element of the iterable. Only if the function returns True will the element of the iterable be included in the result.\n",
    "\n",
    "Like map(), filter() returns an iterator - that is, filter yields one result at a time as needed.\n"
   ]
  },
  {
   "cell_type": "code",
   "execution_count": 12,
   "id": "267faa95",
   "metadata": {},
   "outputs": [
    {
     "data": {
      "text/plain": [
       "[0, 2, 4, 6, 8, 10, 12, 14, 16, 18]"
      ]
     },
     "execution_count": 12,
     "metadata": {},
     "output_type": "execute_result"
    }
   ],
   "source": [
    "def even_check(num):\n",
    "    if num%2==0:\n",
    "        return True\n",
    "    \n",
    "lst = range(20)\n",
    "list(filter(even_check, lst))"
   ]
  },
  {
   "cell_type": "markdown",
   "id": "0f942319",
   "metadata": {},
   "source": [
    "filter() is more commonly used with lambda functions, because we usually use filter for a quick job where we don't want to write an entire function. Let's repeat the example above using a lambda expression:\n"
   ]
  },
  {
   "cell_type": "code",
   "execution_count": 13,
   "id": "c5ef62bc",
   "metadata": {},
   "outputs": [
    {
     "data": {
      "text/plain": [
       "[0, 2, 4, 6, 8, 10, 12, 14, 16, 18]"
      ]
     },
     "execution_count": 13,
     "metadata": {},
     "output_type": "execute_result"
    }
   ],
   "source": [
    "list(filter(lambda x:x%2==0, lst))"
   ]
  },
  {
   "cell_type": "markdown",
   "id": "0cda1218",
   "metadata": {},
   "source": [
    "### zip\n",
    "\n",
    "zip() makes an iterator that aggregates elements from each of the iterables.\n",
    "\n",
    "Returns an iterator of tuples, where the i-th tuple contains the i-th element from each of the argument sequences or iterables. The iterator stops when the shortest input iterable is exhausted. With a single iterable argument, it returns an iterator of 1-tuples. With no arguments, it returns an empty iterator.\n",
    "\n",
    "zip() is equivalent to:\n",
    "\n",
    "```python\n",
    "`def zip(*iterables):\n",
    "    zip('ABCD', 'xy') --> Ax By\n",
    "    sentinel = object()\n",
    "    iterators = [iter(it) for it in iterables]\n",
    "    while iterators:\n",
    "        result = []\n",
    "        for it in iterators:\n",
    "            elem = next(it, sentinel)\n",
    "            if elem is sentinel:\n",
    "                return\n",
    "            result.append(elem)\n",
    "        yield tuple(result) `\n",
    "```\n",
    "\n",
    "zip() should only be used with unequal length inputs when you don’t care about trailing, unmatched values from the longer iterables.\n"
   ]
  },
  {
   "cell_type": "code",
   "execution_count": 14,
   "id": "022920f7",
   "metadata": {},
   "outputs": [
    {
     "data": {
      "text/plain": [
       "[(1, 4), (2, 5), (3, 6)]"
      ]
     },
     "execution_count": 14,
     "metadata": {},
     "output_type": "execute_result"
    }
   ],
   "source": [
    "x = [1,2,3]\n",
    "y = [4,5,6]\n",
    "\n",
    "list(zip(x,y))"
   ]
  },
  {
   "cell_type": "code",
   "execution_count": 15,
   "id": "040481db",
   "metadata": {},
   "outputs": [
    {
     "data": {
      "text/plain": [
       "[(1, 4), (2, 5), (3, 6)]"
      ]
     },
     "execution_count": 15,
     "metadata": {},
     "output_type": "execute_result"
    }
   ],
   "source": [
    "# What if one iterable is longer than the other?\n",
    "x = [1,2,3]\n",
    "y = [4,5,6,7,8]\n",
    "\n",
    "list(zip(x,y))"
   ]
  },
  {
   "cell_type": "code",
   "execution_count": 16,
   "id": "c2e1edc1",
   "metadata": {},
   "outputs": [
    {
     "data": {
      "text/plain": [
       "[('a', 'c'), ('b', 'd')]"
      ]
     },
     "execution_count": 16,
     "metadata": {},
     "output_type": "execute_result"
    }
   ],
   "source": [
    "# What happens if we try to zip together dictionaries?\n",
    "\n",
    "d1 = {'a':1,'b':2}\n",
    "d2 = {'c':4,'d':5}\n",
    "\n",
    "list(zip(d1,d2))"
   ]
  },
  {
   "cell_type": "code",
   "execution_count": 18,
   "id": "20f453a5",
   "metadata": {},
   "outputs": [
    {
     "data": {
      "text/plain": [
       "[('c', 1), ('d', 2)]"
      ]
     },
     "execution_count": 18,
     "metadata": {},
     "output_type": "execute_result"
    }
   ],
   "source": [
    "list(zip(d2, d1.values()))"
   ]
  },
  {
   "cell_type": "code",
   "execution_count": 19,
   "id": "deb2b681",
   "metadata": {},
   "outputs": [
    {
     "data": {
      "text/plain": [
       "{'a': 4, 'b': 5}"
      ]
     },
     "execution_count": 19,
     "metadata": {},
     "output_type": "execute_result"
    }
   ],
   "source": [
    "# zip() to switch the keys and values of the two dictionaries:\n",
    "\n",
    "def switchar(d1,d2):\n",
    "    dout = {}\n",
    "    \n",
    "    for d1key, d2val in zip(d1, d2.values()):\n",
    "        dout[d1key] = d2val\n",
    "        \n",
    "    return dout\n",
    "\n",
    "switchar(d1,d2)"
   ]
  },
  {
   "cell_type": "markdown",
   "id": "0dd50c98",
   "metadata": {},
   "source": [
    "### enumerate()\n",
    "\n",
    "Enumerate allows you to keep a count as you iterate through an object. It does this by returning a tuple in the form (count,element). The function itself is equivalent to:\n",
    "\n",
    "```python\n",
    "def enumerate(sequence, start=0):\n",
    "    n = start\n",
    "    for elem in sequence:\n",
    "        yield n, elem\n",
    "        n += 1\n",
    "```\n"
   ]
  },
  {
   "cell_type": "code",
   "execution_count": 20,
   "id": "5198f277",
   "metadata": {},
   "outputs": [
    {
     "name": "stdout",
     "output_type": "stream",
     "text": [
      "0\n",
      "a\n",
      "1\n",
      "b\n",
      "2\n",
      "c\n"
     ]
    }
   ],
   "source": [
    "lst = ['a', 'b', 'c']\n",
    "\n",
    "for num, item in enumerate(lst):\n",
    "    print(num)\n",
    "    print(item)"
   ]
  },
  {
   "cell_type": "markdown",
   "id": "abc32f8a",
   "metadata": {},
   "source": [
    "enumerate() becomes particularly useful when you have a case where you need to have some sort of tracker. For example:\n"
   ]
  },
  {
   "cell_type": "code",
   "execution_count": 21,
   "id": "404b0166",
   "metadata": {},
   "outputs": [
    {
     "name": "stdout",
     "output_type": "stream",
     "text": [
      "a\n",
      "b\n"
     ]
    }
   ],
   "source": [
    "for count, item in enumerate(lst):\n",
    "    if count >=2:\n",
    "        break\n",
    "    else:\n",
    "        print(item)"
   ]
  },
  {
   "cell_type": "code",
   "execution_count": 22,
   "id": "677bbd88",
   "metadata": {},
   "outputs": [
    {
     "data": {
      "text/plain": [
       "[(3, 'March'), (4, 'April'), (5, 'May'), (6, 'June')]"
      ]
     },
     "execution_count": 22,
     "metadata": {},
     "output_type": "execute_result"
    }
   ],
   "source": [
    "\n",
    "# enumerate() takes an optional \"start\" argument to override the default value \n",
    "# of zero:\n",
    "\n",
    "months = ['March','April','May','June']\n",
    "list(enumerate(months, start=3))"
   ]
  },
  {
   "cell_type": "markdown",
   "id": "3c4fa296",
   "metadata": {},
   "source": [
    "all() and any()\n",
    "all() and any() are built-in functions in Python that allow us to conveniently check for boolean matching in an iterable. all() will return True if all elements in an iterable are True. It is the same as this function code:\n",
    "\n",
    "```python\n",
    "def all(iterable):\n",
    "    for element in iterable:\n",
    "        if not element:\n",
    "            return False\n",
    "    return True\n",
    "```\n",
    "    \n",
    "any() will return True if any of the elements in the iterable are True. It is equivalent to the following function code:\n",
    "\n",
    "```python\n",
    "def any(iterable):\n",
    "    for element in iterable:\n",
    "        if element:\n",
    "            return True\n",
    "    return False\n",
    "```"
   ]
  },
  {
   "cell_type": "code",
   "execution_count": null,
   "id": "203d5313",
   "metadata": {},
   "outputs": [
    {
     "data": {
      "text/plain": [
       "False"
      ]
     },
     "execution_count": 23,
     "metadata": {},
     "output_type": "execute_result"
    }
   ],
   "source": [
    "lst = [True,True,False,True]\n",
    "\n",
    "# Returns False because not all elements are True.\n",
    "all(lst)"
   ]
  },
  {
   "cell_type": "code",
   "execution_count": null,
   "id": "a8fdaae5",
   "metadata": {},
   "outputs": [
    {
     "data": {
      "text/plain": [
       "True"
      ]
     },
     "execution_count": 24,
     "metadata": {},
     "output_type": "execute_result"
    }
   ],
   "source": [
    "any(lst)\n",
    "# Returns True because at least one of the elements in the list is True"
   ]
  },
  {
   "cell_type": "markdown",
   "id": "97474928",
   "metadata": {},
   "source": [
    "### complex()\n",
    "complex() returns a complex number with the value real + imag*1j or converts a string or number to a complex number."
   ]
  },
  {
   "cell_type": "code",
   "execution_count": 25,
   "id": "b4eb2b8b",
   "metadata": {},
   "outputs": [
    {
     "data": {
      "text/plain": [
       "(2+3j)"
      ]
     },
     "execution_count": 25,
     "metadata": {},
     "output_type": "execute_result"
    }
   ],
   "source": [
    "\n",
    "complex(2,3)"
   ]
  },
  {
   "cell_type": "code",
   "execution_count": 26,
   "id": "b83dd12f",
   "metadata": {},
   "outputs": [
    {
     "data": {
      "text/plain": [
       "(10+1j)"
      ]
     },
     "execution_count": 26,
     "metadata": {},
     "output_type": "execute_result"
    }
   ],
   "source": [
    "complex(10,1)"
   ]
  },
  {
   "cell_type": "code",
   "execution_count": 27,
   "id": "a5df288e",
   "metadata": {},
   "outputs": [
    {
     "data": {
      "text/plain": [
       "(12+2j)"
      ]
     },
     "execution_count": 27,
     "metadata": {},
     "output_type": "execute_result"
    }
   ],
   "source": [
    "complex('12+2j')"
   ]
  },
  {
   "cell_type": "markdown",
   "id": "56164ed3",
   "metadata": {},
   "source": [
    "### Problem 1\n",
    "Use map() to create a function which finds the length of each word in the phrase (broken by spaces) and return the values in a list.\n",
    "\n",
    "The function will have an input of a string, and output a list of integers."
   ]
  },
  {
   "cell_type": "code",
   "execution_count": 4,
   "id": "50601d98",
   "metadata": {},
   "outputs": [
    {
     "data": {
      "text/plain": [
       "[3, 4, 3, 3, 5, 2, 4, 6]"
      ]
     },
     "execution_count": 4,
     "metadata": {},
     "output_type": "execute_result"
    }
   ],
   "source": [
    "def word_lengths(sentence):\n",
    "    return list(map(lambda word: len(word), sentence.split()))\n",
    "\n",
    "word_lengths('How long are the words in this phrase')"
   ]
  },
  {
   "cell_type": "code",
   "execution_count": null,
   "id": "ec097d1a",
   "metadata": {},
   "outputs": [
    {
     "data": {
      "text/plain": [
       "[('the', 2),\n",
       " ('How', 1),\n",
       " ('long', 1),\n",
       " ('are', 1),\n",
       " ('words', 1),\n",
       " ('in', 1),\n",
       " ('phrase', 1),\n",
       " ('above', 1)]"
      ]
     },
     "execution_count": 11,
     "metadata": {},
     "output_type": "execute_result"
    }
   ],
   "source": [
    "# Refreshing the counter concept\n",
    "from collections import Counter\n",
    "\n",
    "def count_words(sentence):\n",
    "    st = sentence.split()\n",
    "    freq = Counter(st)\n",
    "    return freq.most_common()\n",
    "\n",
    "\n",
    "count_words('How long are the words in the phrase above')    "
   ]
  },
  {
   "cell_type": "markdown",
   "id": "0bcb700a",
   "metadata": {},
   "source": [
    "### Problem 2\n",
    "Use reduce() to take a list of digits and return the number that they correspond to. For example, [1,2,3] corresponds to one-hundred-twenty-three.\n",
    "Do not convert the integers to strings!"
   ]
  },
  {
   "cell_type": "code",
   "execution_count": 14,
   "id": "c4263f7e",
   "metadata": {},
   "outputs": [
    {
     "data": {
      "text/plain": [
       "34321"
      ]
     },
     "execution_count": 14,
     "metadata": {},
     "output_type": "execute_result"
    }
   ],
   "source": [
    "from functools import reduce\n",
    "def digits_to_num(digits):\n",
    "    return reduce(lambda x,y: x*10 +y, digits)\n",
    "\n",
    "digits_to_num([3,4,3,2,1])"
   ]
  },
  {
   "cell_type": "markdown",
   "id": "6e2ac1af",
   "metadata": {},
   "source": [
    "### Problem 3\n",
    "Use filter() to return the words from a list of words which start with a target letter."
   ]
  },
  {
   "cell_type": "code",
   "execution_count": 16,
   "id": "d23da30f",
   "metadata": {},
   "outputs": [
    {
     "data": {
      "text/plain": [
       "['hello', 'ham', 'hi', 'heart']"
      ]
     },
     "execution_count": 16,
     "metadata": {},
     "output_type": "execute_result"
    }
   ],
   "source": [
    "def filter_words(word_list, letter):\n",
    "    return list(filter(lambda word:word[0] == letter, word_list))\n",
    "\n",
    "words = ['hello','are','cat','dog','ham','hi','go','to','heart']\n",
    "filter_words(words,'h')"
   ]
  },
  {
   "cell_type": "markdown",
   "id": "674dd8a2",
   "metadata": {},
   "source": [
    "### Problem 4\n",
    "Use zip() and a list comprehension to return a list of the same length where each value is the two strings from L1 and L2 concatenated together with a connector between them. Look at the example output below:"
   ]
  },
  {
   "cell_type": "code",
   "execution_count": 18,
   "id": "59cdca1c",
   "metadata": {},
   "outputs": [
    {
     "data": {
      "text/plain": [
       "['A-a', 'B-b']"
      ]
     },
     "execution_count": 18,
     "metadata": {},
     "output_type": "execute_result"
    }
   ],
   "source": [
    "def concatenate(L1, L2, connector):\n",
    "    return list(word1 + connector + word2 for (word1, word2) in zip(L1,L2))\n",
    "concatenate(['A','B'],['a','b'],'-')"
   ]
  },
  {
   "cell_type": "markdown",
   "id": "b3d0fc1f",
   "metadata": {},
   "source": [
    "### Problem 5\n",
    "Use enumerate() and other skills to return a dictionary which has the values of the list as keys and the index as the value. You may assume that a value will only appear once in the given list."
   ]
  },
  {
   "cell_type": "code",
   "execution_count": 19,
   "id": "0b393692",
   "metadata": {},
   "outputs": [
    {
     "data": {
      "text/plain": [
       "{'a': 0, 'b': 1, 'c': 2}"
      ]
     },
     "execution_count": 19,
     "metadata": {},
     "output_type": "execute_result"
    }
   ],
   "source": [
    "def d_list(L):\n",
    "    return {key:value for value, key in enumerate(L)}\n",
    "\n",
    "d_list(['a','b','c'])"
   ]
  },
  {
   "cell_type": "markdown",
   "id": "32458c8e",
   "metadata": {},
   "source": [
    "### Problem 6\n",
    "Use enumerate() and other skills from above to return the count of the number of items in the list whose value equals its index."
   ]
  },
  {
   "cell_type": "code",
   "execution_count": null,
   "id": "526fb629",
   "metadata": {},
   "outputs": [],
   "source": []
  }
 ],
 "metadata": {
  "kernelspec": {
   "display_name": "Python 3",
   "language": "python",
   "name": "python3"
  },
  "language_info": {
   "codemirror_mode": {
    "name": "ipython",
    "version": 3
   },
   "file_extension": ".py",
   "mimetype": "text/x-python",
   "name": "python",
   "nbconvert_exporter": "python",
   "pygments_lexer": "ipython3",
   "version": "3.10.0"
  }
 },
 "nbformat": 4,
 "nbformat_minor": 5
}
